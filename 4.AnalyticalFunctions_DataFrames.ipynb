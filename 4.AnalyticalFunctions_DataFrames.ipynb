{
  "cells": [
    {
      "metadata": {
        "trusted": true
      },
      "cell_type": "code",
      "source": "from pyspark.sql import SparkSession\nfrom pyspark.sql.types import *\nfrom pyspark.sql.functions import *\nfrom pyspark.sql.window import Window",
      "execution_count": 2,
      "outputs": []
    },
    {
      "metadata": {
        "trusted": true
      },
      "cell_type": "code",
      "source": "spark = SparkSession.builder.master('local').appName('operDataFrames').enableHiveSupport().getOrCreate()\nsc=spark.sparkContext",
      "execution_count": 4,
      "outputs": []
    },
    {
      "metadata": {
        "trusted": true
      },
      "cell_type": "code",
      "source": "orders = spark.read.csv('data//retail_db//orders.csv',header=True,inferSchema=True)\norder_items = spark.read.csv('data//retail_db//order_items.csv',header=True,inferSchema=True)\ncustomers = spark.read.csv('data//retail_db//customers.csv',header=True,inferSchema=True)\nproducts = spark.read.csv('data//retail_db//products.csv',header=True,inferSchema=True)",
      "execution_count": 5,
      "outputs": []
    },
    {
      "metadata": {},
      "cell_type": "markdown",
      "source": "# Analytical functions "
    },
    {
      "metadata": {},
      "cell_type": "markdown",
      "source": "### It is driven by windowing function 'Window' imported from 'pyspark.sql.window'"
    },
    {
      "metadata": {},
      "cell_type": "markdown",
      "source": "### Basic analytical functions "
    },
    {
      "metadata": {},
      "cell_type": "markdown",
      "source": "These analytical functions are count(), sum(), min(), max() and avg()\n"
    },
    {
      "metadata": {},
      "cell_type": "markdown",
      "source": "Only partition by clause is applicable (No order by clause is needed)"
    },
    {
      "metadata": {},
      "cell_type": "markdown",
      "source": "#### Define the specification for windowing according to the problem statement"
    },
    {
      "metadata": {
        "trusted": true
      },
      "cell_type": "code",
      "source": "spec=Window.partitionBy(order_items.order_item_order_id)",
      "execution_count": 11,
      "outputs": []
    },
    {
      "metadata": {
        "trusted": true
      },
      "cell_type": "code",
      "source": "order_items.withColumn('order_sum',sum(order_items.order_item_subtotal).over(spec)).show()",
      "execution_count": 12,
      "outputs": [
        {
          "output_type": "stream",
          "text": "+-------------+-------------------+---------------------+-------------------+-------------------+------------------------+------------------+\n|order_item_id|order_item_order_id|order_item_product_id|order_item_quantity|order_item_subtotal|order_item_product_price|         order_sum|\n+-------------+-------------------+---------------------+-------------------+-------------------+------------------------+------------------+\n|          348|                148|                  502|                  2|              100.0|                    50.0|            479.99|\n|          349|                148|                  502|                  5|              250.0|                    50.0|            479.99|\n|          350|                148|                  403|                  1|             129.99|                  129.99|            479.99|\n|         1129|                463|                  365|                  4|             239.96|                   59.99| 829.9200000000001|\n|         1130|                463|                  502|                  5|              250.0|                    50.0| 829.9200000000001|\n|         1131|                463|                  627|                  1|              39.99|                   39.99| 829.9200000000001|\n|         1132|                463|                  191|                  3|             299.97|                   99.99| 829.9200000000001|\n|         1153|                471|                  627|                  1|              39.99|                   39.99|169.98000000000002|\n|         1154|                471|                  403|                  1|             129.99|                  129.99|169.98000000000002|\n|         1223|                496|                  365|                  1|              59.99|                   59.99|441.95000000000005|\n|         1224|                496|                  502|                  3|              150.0|                    50.0|441.95000000000005|\n|         1225|                496|                  821|                  1|              51.99|                   51.99|441.95000000000005|\n|         1226|                496|                  403|                  1|             129.99|                  129.99|441.95000000000005|\n|         1227|                496|                 1014|                  1|              49.98|                   49.98|441.95000000000005|\n|         2703|               1088|                  403|                  1|             129.99|                  129.99|249.97000000000003|\n|         2704|               1088|                  365|                  2|             119.98|                   59.99|249.97000000000003|\n|         3944|               1580|                   44|                  5|             299.95|                   59.99|            299.95|\n|         3968|               1591|                  627|                  5|             199.95|                   39.99|            439.86|\n|         3969|               1591|                  627|                  1|              39.99|                   39.99|            439.86|\n|         3970|               1591|                 1014|                  4|             199.92|                   49.98|            439.86|\n+-------------+-------------------+---------------------+-------------------+-------------------+------------------------+------------------+\nonly showing top 20 rows\n\n",
          "name": "stdout"
        }
      ]
    },
    {
      "metadata": {
        "trusted": true
      },
      "cell_type": "code",
      "source": "order_items. \\\nwithColumn('order_sum',sum(order_items.order_item_subtotal).over(spec)). \\\nwithColumn('order_max',max(order_items.order_item_subtotal).over(spec)). \\\nwithColumn('order_min',min(order_items.order_item_subtotal).over(spec)). \\\nwithColumn('order_avg',avg(order_items.order_item_subtotal).over(spec)). \\\nwithColumn('order_count',count(order_items.order_item_subtotal).over(spec)). \\\nwithColumn('order_count1',count(lit(\"1\")).over(spec)). \\\ndrop('order_item_product_id','order_item_quantity','order_item_product_price'). \\\norderBy('order_item_order_id').show()",
      "execution_count": 14,
      "outputs": [
        {
          "output_type": "stream",
          "text": "+-------------+-------------------+-------------------+------------------+---------+---------+------------------+-----------+------------+\n|order_item_id|order_item_order_id|order_item_subtotal|         order_sum|order_max|order_min|         order_avg|order_count|order_count1|\n+-------------+-------------------+-------------------+------------------+---------+---------+------------------+-----------+------------+\n|            1|                  1|             299.98|            299.98|   299.98|   299.98|            299.98|          1|           1|\n|            3|                  2|              250.0|            579.98|    250.0|   129.99|193.32666666666668|          3|           3|\n|            4|                  2|             129.99|            579.98|    250.0|   129.99|193.32666666666668|          3|           3|\n|            2|                  2|             199.99|            579.98|    250.0|   129.99|193.32666666666668|          3|           3|\n|            8|                  4|             199.92|            699.85|   299.95|    49.98|          174.9625|          4|           4|\n|            7|                  4|              150.0|            699.85|   299.95|    49.98|          174.9625|          4|           4|\n|            6|                  4|             299.95|            699.85|   299.95|    49.98|          174.9625|          4|           4|\n|            5|                  4|              49.98|            699.85|   299.95|    49.98|          174.9625|          4|           4|\n|           10|                  5|             299.95|1129.8600000000001|   299.98|    99.96|225.97200000000004|          5|           5|\n|           12|                  5|             299.98|1129.8600000000001|   299.98|    99.96|225.97200000000004|          5|           5|\n|            9|                  5|             299.98|1129.8600000000001|   299.98|    99.96|225.97200000000004|          5|           5|\n|           13|                  5|             129.99|1129.8600000000001|   299.98|    99.96|225.97200000000004|          5|           5|\n|           11|                  5|              99.96|1129.8600000000001|   299.98|    99.96|225.97200000000004|          5|           5|\n|           15|                  7|             299.98| 579.9200000000001|   299.98|    79.95| 193.3066666666667|          3|           3|\n|           16|                  7|              79.95| 579.9200000000001|   299.98|    79.95| 193.3066666666667|          3|           3|\n|           14|                  7|             199.99| 579.9200000000001|   299.98|    79.95| 193.3066666666667|          3|           3|\n|           17|                  8|             179.97| 729.8399999999999|   299.95|     50.0|182.45999999999998|          4|           4|\n|           18|                  8|             299.95| 729.8399999999999|   299.95|     50.0|182.45999999999998|          4|           4|\n|           19|                  8|             199.92| 729.8399999999999|   299.95|     50.0|182.45999999999998|          4|           4|\n|           20|                  8|               50.0| 729.8399999999999|   299.95|     50.0|182.45999999999998|          4|           4|\n+-------------+-------------------+-------------------+------------------+---------+---------+------------------+-----------+------------+\nonly showing top 20 rows\n\n",
          "name": "stdout"
        }
      ]
    },
    {
      "metadata": {},
      "cell_type": "markdown",
      "source": "## Numbering Analytical functions "
    },
    {
      "metadata": {},
      "cell_type": "markdown",
      "source": "These analytical functions are rank(), dense_rank(), row_number(), lead(), lag() and ntile()"
    },
    {
      "metadata": {},
      "cell_type": "markdown",
      "source": "Both partitionBy and orderBy clauses must be specified for windowing "
    },
    {
      "metadata": {
        "trusted": true
      },
      "cell_type": "code",
      "source": "spec=Window.partitionBy(order_items.order_item_order_id).orderBy(order_items.order_item_subtotal.desc())",
      "execution_count": 17,
      "outputs": []
    },
    {
      "metadata": {
        "trusted": true
      },
      "cell_type": "code",
      "source": "order_items.withColumn('rnk',rank().over(spec)).show()",
      "execution_count": 19,
      "outputs": [
        {
          "output_type": "stream",
          "text": "+-------------+-------------------+---------------------+-------------------+-------------------+------------------------+---+\n|order_item_id|order_item_order_id|order_item_product_id|order_item_quantity|order_item_subtotal|order_item_product_price|rnk|\n+-------------+-------------------+---------------------+-------------------+-------------------+------------------------+---+\n|          349|                148|                  502|                  5|              250.0|                    50.0|  1|\n|          350|                148|                  403|                  1|             129.99|                  129.99|  2|\n|          348|                148|                  502|                  2|              100.0|                    50.0|  3|\n|         1132|                463|                  191|                  3|             299.97|                   99.99|  1|\n|         1130|                463|                  502|                  5|              250.0|                    50.0|  2|\n|         1129|                463|                  365|                  4|             239.96|                   59.99|  3|\n|         1131|                463|                  627|                  1|              39.99|                   39.99|  4|\n|         1154|                471|                  403|                  1|             129.99|                  129.99|  1|\n|         1153|                471|                  627|                  1|              39.99|                   39.99|  2|\n|         1224|                496|                  502|                  3|              150.0|                    50.0|  1|\n|         1226|                496|                  403|                  1|             129.99|                  129.99|  2|\n|         1223|                496|                  365|                  1|              59.99|                   59.99|  3|\n|         1225|                496|                  821|                  1|              51.99|                   51.99|  4|\n|         1227|                496|                 1014|                  1|              49.98|                   49.98|  5|\n|         2703|               1088|                  403|                  1|             129.99|                  129.99|  1|\n|         2704|               1088|                  365|                  2|             119.98|                   59.99|  2|\n|         3944|               1580|                   44|                  5|             299.95|                   59.99|  1|\n|         3968|               1591|                  627|                  5|             199.95|                   39.99|  1|\n|         3970|               1591|                 1014|                  4|             199.92|                   49.98|  2|\n|         3969|               1591|                  627|                  1|              39.99|                   39.99|  3|\n+-------------+-------------------+---------------------+-------------------+-------------------+------------------------+---+\nonly showing top 20 rows\n\n",
          "name": "stdout"
        }
      ]
    },
    {
      "metadata": {
        "trusted": true
      },
      "cell_type": "code",
      "source": "order_items. \\\nwithColumn('rnk',rank().over(spec)). \\\nwithColumn('drnk',dense_rank().over(spec)). \\\nwithColumn('rn',row_number().over(spec)). \\\nwithColumn('ld',lead(order_items.order_item_subtotal).over(spec)). \\\nwithColumn('lg',lag(order_items.order_item_subtotal).over(spec)). \\\ndrop('order_item_product_id','order_item_quantity','order_item_product_price'). \\\norderBy('order_item_order_id').show()",
      "execution_count": 22,
      "outputs": [
        {
          "output_type": "stream",
          "text": "+-------------+-------------------+-------------------+---+----+---+------+------+\n|order_item_id|order_item_order_id|order_item_subtotal|rnk|drnk| rn|    ld|    lg|\n+-------------+-------------------+-------------------+---+----+---+------+------+\n|            1|                  1|             299.98|  1|   1|  1|  null|  null|\n|            2|                  2|             199.99|  2|   2|  2|129.99| 250.0|\n|            4|                  2|             129.99|  3|   3|  3|  null|199.99|\n|            3|                  2|              250.0|  1|   1|  1|199.99|  null|\n|            5|                  4|              49.98|  4|   4|  4|  null| 150.0|\n|            7|                  4|              150.0|  3|   3|  3| 49.98|199.92|\n|            8|                  4|             199.92|  2|   2|  2| 150.0|299.95|\n|            6|                  4|             299.95|  1|   1|  1|199.92|  null|\n|           12|                  5|             299.98|  1|   1|  2|299.95|299.98|\n|           13|                  5|             129.99|  4|   3|  4| 99.96|299.95|\n|            9|                  5|             299.98|  1|   1|  1|299.98|  null|\n|           11|                  5|              99.96|  5|   4|  5|  null|129.99|\n|           10|                  5|             299.95|  3|   2|  3|129.99|299.98|\n|           14|                  7|             199.99|  2|   2|  2| 79.95|299.98|\n|           16|                  7|              79.95|  3|   3|  3|  null|199.99|\n|           15|                  7|             299.98|  1|   1|  1|199.99|  null|\n|           18|                  8|             299.95|  1|   1|  1|199.92|  null|\n|           19|                  8|             199.92|  2|   2|  2|179.97|299.95|\n|           17|                  8|             179.97|  3|   3|  3|  50.0|199.92|\n|           20|                  8|               50.0|  4|   4|  4|  null|179.97|\n+-------------+-------------------+-------------------+---+----+---+------+------+\nonly showing top 20 rows\n\n",
          "name": "stdout"
        }
      ]
    }
  ],
  "metadata": {
    "kernelspec": {
      "name": "python36",
      "display_name": "Python 3.6",
      "language": "python"
    },
    "language_info": {
      "mimetype": "text/x-python",
      "nbconvert_exporter": "python",
      "name": "python",
      "pygments_lexer": "ipython3",
      "version": "3.6.6",
      "file_extension": ".py",
      "codemirror_mode": {
        "version": 3,
        "name": "ipython"
      }
    }
  },
  "nbformat": 4,
  "nbformat_minor": 2
}