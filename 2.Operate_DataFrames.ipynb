{
  "cells": [
    {
      "metadata": {
        "trusted": true
      },
      "cell_type": "code",
      "source": "from pyspark.sql import SparkSession\nfrom pyspark.sql.types import *\nfrom pyspark.sql.functions import *",
      "execution_count": 1,
      "outputs": []
    },
    {
      "metadata": {
        "trusted": true
      },
      "cell_type": "code",
      "source": "spark = SparkSession.builder.master('local').appName('operDataFrames').enableHiveSupport().getOrCreate()",
      "execution_count": 2,
      "outputs": []
    },
    {
      "metadata": {
        "trusted": true
      },
      "cell_type": "code",
      "source": "sc=spark.sparkContext",
      "execution_count": 3,
      "outputs": []
    },
    {
      "metadata": {
        "trusted": true
      },
      "cell_type": "code",
      "source": "spark",
      "execution_count": 4,
      "outputs": [
        {
          "output_type": "execute_result",
          "execution_count": 4,
          "data": {
            "text/html": "\n            <div>\n                <p><b>SparkSession - hive</b></p>\n                \n        <div>\n            <p><b>SparkContext</b></p>\n\n            <p><a href=\"http://10.36.59.127:4040\">Spark UI</a></p>\n\n            <dl>\n              <dt>Version</dt>\n                <dd><code>v2.4.4</code></dd>\n              <dt>Master</dt>\n                <dd><code>local</code></dd>\n              <dt>AppName</dt>\n                <dd><code>operDataFrames</code></dd>\n            </dl>\n        </div>\n        \n            </div>\n        ",
            "text/plain": "<pyspark.sql.session.SparkSession at 0x7f34b86cb748>"
          },
          "metadata": {}
        }
      ]
    },
    {
      "metadata": {
        "trusted": true
      },
      "cell_type": "code",
      "source": "orders = spark.read.csv('data//retail_db//orders.csv',header=True,inferSchema=True)\norder_items = spark.read.csv('data//retail_db//order_items.csv',header=True,inferSchema=True)\ncustomers = spark.read.csv('data//retail_db//customers.csv',header=True,inferSchema=True)\nproducts = spark.read.csv('data//retail_db//products.csv',header=True,inferSchema=True)",
      "execution_count": 49,
      "outputs": []
    },
    {
      "metadata": {},
      "cell_type": "markdown",
      "source": "# select"
    },
    {
      "metadata": {
        "trusted": true
      },
      "cell_type": "code",
      "source": "orders.select(orders.order_status,'order_status',col('order_status')).show()",
      "execution_count": 6,
      "outputs": [
        {
          "output_type": "stream",
          "text": "+---------------+---------------+---------------+\n|   order_status|   order_status|   order_status|\n+---------------+---------------+---------------+\n|         CLOSED|         CLOSED|         CLOSED|\n|PENDING_PAYMENT|PENDING_PAYMENT|PENDING_PAYMENT|\n|       COMPLETE|       COMPLETE|       COMPLETE|\n|         CLOSED|         CLOSED|         CLOSED|\n|       COMPLETE|       COMPLETE|       COMPLETE|\n|       COMPLETE|       COMPLETE|       COMPLETE|\n|       COMPLETE|       COMPLETE|       COMPLETE|\n|     PROCESSING|     PROCESSING|     PROCESSING|\n|PENDING_PAYMENT|PENDING_PAYMENT|PENDING_PAYMENT|\n|PENDING_PAYMENT|PENDING_PAYMENT|PENDING_PAYMENT|\n| PAYMENT_REVIEW| PAYMENT_REVIEW| PAYMENT_REVIEW|\n|         CLOSED|         CLOSED|         CLOSED|\n|PENDING_PAYMENT|PENDING_PAYMENT|PENDING_PAYMENT|\n|     PROCESSING|     PROCESSING|     PROCESSING|\n|       COMPLETE|       COMPLETE|       COMPLETE|\n|PENDING_PAYMENT|PENDING_PAYMENT|PENDING_PAYMENT|\n|       COMPLETE|       COMPLETE|       COMPLETE|\n|         CLOSED|         CLOSED|         CLOSED|\n|PENDING_PAYMENT|PENDING_PAYMENT|PENDING_PAYMENT|\n|     PROCESSING|     PROCESSING|     PROCESSING|\n+---------------+---------------+---------------+\nonly showing top 20 rows\n\n",
          "name": "stdout"
        }
      ]
    },
    {
      "metadata": {},
      "cell_type": "markdown",
      "source": "#### But while using functions it is applicable to specify the full notation, i.e., dataframe.column_name or using col as below"
    },
    {
      "metadata": {
        "trusted": true
      },
      "cell_type": "code",
      "source": "orders.select(lower(orders.order_status),lower(col('order_status'))).show()\n#Note: orders.select(lower('order_status')).show() will not work",
      "execution_count": 7,
      "outputs": [
        {
          "output_type": "stream",
          "text": "+-------------------+-------------------+\n|lower(order_status)|lower(order_status)|\n+-------------------+-------------------+\n|             closed|             closed|\n|    pending_payment|    pending_payment|\n|           complete|           complete|\n|             closed|             closed|\n|           complete|           complete|\n|           complete|           complete|\n|           complete|           complete|\n|         processing|         processing|\n|    pending_payment|    pending_payment|\n|    pending_payment|    pending_payment|\n|     payment_review|     payment_review|\n|             closed|             closed|\n|    pending_payment|    pending_payment|\n|         processing|         processing|\n|           complete|           complete|\n|    pending_payment|    pending_payment|\n|           complete|           complete|\n|             closed|             closed|\n|    pending_payment|    pending_payment|\n|         processing|         processing|\n+-------------------+-------------------+\nonly showing top 20 rows\n\n",
          "name": "stdout"
        }
      ]
    },
    {
      "metadata": {},
      "cell_type": "markdown",
      "source": "# alias\n#### alias should be enclosed within select "
    },
    {
      "metadata": {},
      "cell_type": "markdown",
      "source": "### Note : Please do not give alias the same name as built-in functions "
    },
    {
      "metadata": {
        "trusted": true
      },
      "cell_type": "code",
      "source": "orders.select(orders.order_status.alias('Status_alias')).show()\n#Note: orders.select('order_status').alias('Status_alias').show()  will not work",
      "execution_count": 8,
      "outputs": [
        {
          "output_type": "stream",
          "text": "+---------------+\n|   Status_alias|\n+---------------+\n|         CLOSED|\n|PENDING_PAYMENT|\n|       COMPLETE|\n|         CLOSED|\n|       COMPLETE|\n|       COMPLETE|\n|       COMPLETE|\n|     PROCESSING|\n|PENDING_PAYMENT|\n|PENDING_PAYMENT|\n| PAYMENT_REVIEW|\n|         CLOSED|\n|PENDING_PAYMENT|\n|     PROCESSING|\n|       COMPLETE|\n|PENDING_PAYMENT|\n|       COMPLETE|\n|         CLOSED|\n|PENDING_PAYMENT|\n|     PROCESSING|\n+---------------+\nonly showing top 20 rows\n\n",
          "name": "stdout"
        }
      ]
    },
    {
      "metadata": {
        "trusted": true
      },
      "cell_type": "code",
      "source": "orders.select(orders.order_status.alias('Status_alias')).distinct().show()\n#Note: orders.select('order_status').distinct().alias('Status_alias').show() will not work",
      "execution_count": 9,
      "outputs": [
        {
          "output_type": "stream",
          "text": "+---------------+\n|   Status_alias|\n+---------------+\n|PENDING_PAYMENT|\n|       COMPLETE|\n|        ON_HOLD|\n| PAYMENT_REVIEW|\n|     PROCESSING|\n|         CLOSED|\n|SUSPECTED_FRAUD|\n|        PENDING|\n|       CANCELED|\n+---------------+\n\n",
          "name": "stdout"
        }
      ]
    },
    {
      "metadata": {},
      "cell_type": "markdown",
      "source": "# withcolumn\n#### If already existing column name is given, then the new column expression will replace the existing column. (It will not add another column)\n"
    },
    {
      "metadata": {
        "trusted": true
      },
      "cell_type": "code",
      "source": "orders = orders. \\\nwithColumn('order_id',orders.order_id.cast('bigint')). \\\nwithColumn('order_date',orders.order_date.cast('date')). \\\nwithColumn('order_customer_id',orders.order_customer_id.cast('bigint')). \\\nwithColumn('order_status',orders.order_status.cast('string')) \n",
      "execution_count": 10,
      "outputs": []
    },
    {
      "metadata": {},
      "cell_type": "markdown",
      "source": "#### Given below are the cast notations from pyspark.sql.types"
    },
    {
      "metadata": {
        "trusted": true
      },
      "cell_type": "code",
      "source": "BinaryType: binary\nBooleanType: boolean\nByteType: tinyint\nDateType: date\nDecimalType: decimal(10,0)\nDoubleType: double\nFloatType: float\nIntegerType: int\nLongType: bigint\nShortType: smallint\nStringType: string\nTimestampType: timestamp",
      "execution_count": null,
      "outputs": []
    },
    {
      "metadata": {},
      "cell_type": "markdown",
      "source": "# selectExpr"
    },
    {
      "metadata": {},
      "cell_type": "markdown",
      "source": "#### SQL like expressions can be used for evaluation"
    },
    {
      "metadata": {
        "trusted": true
      },
      "cell_type": "code",
      "source": "orders.selectExpr('order_id||\",\"||order_date||\",\"||order_customer_id||\",\"||order_status||\",\" as textdata ').show()",
      "execution_count": 11,
      "outputs": [
        {
          "output_type": "stream",
          "text": "+--------------------+\n|            textdata|\n+--------------------+\n|1,2013-07-25,1159...|\n|2,2013-07-25,256,...|\n|3,2013-07-25,1211...|\n|4,2013-07-25,8827...|\n|5,2013-07-25,1131...|\n|6,2013-07-25,7130...|\n|7,2013-07-25,4530...|\n|8,2013-07-25,2911...|\n|9,2013-07-25,5657...|\n|10,2013-07-25,564...|\n|11,2013-07-25,918...|\n|12,2013-07-25,183...|\n|13,2013-07-25,914...|\n|14,2013-07-25,984...|\n|15,2013-07-25,256...|\n|16,2013-07-25,727...|\n|17,2013-07-25,266...|\n|18,2013-07-25,120...|\n|19,2013-07-25,948...|\n|20,2013-07-25,919...|\n+--------------------+\nonly showing top 20 rows\n\n",
          "name": "stdout"
        }
      ]
    },
    {
      "metadata": {},
      "cell_type": "markdown",
      "source": "# case\n#### CASE as in SQL can be used"
    },
    {
      "metadata": {
        "trusted": true
      },
      "cell_type": "code",
      "source": "orders.selectExpr('CASE WHEN order_status in (\"COMPLETE\",\"CLOSED\") THEN \"COMPLETELD\" WHEN order_status = \"CANCELED\" THEN \"CANCEL\" ELSE \"NONE\" END Derived_status').show()",
      "execution_count": 16,
      "outputs": [
        {
          "output_type": "stream",
          "text": "+--------------+\n|Derived_status|\n+--------------+\n|    COMPLETELD|\n|          NONE|\n|    COMPLETELD|\n|    COMPLETELD|\n|    COMPLETELD|\n|    COMPLETELD|\n|    COMPLETELD|\n|          NONE|\n|          NONE|\n|          NONE|\n|          NONE|\n|    COMPLETELD|\n|          NONE|\n|          NONE|\n|    COMPLETELD|\n|          NONE|\n|    COMPLETELD|\n|    COMPLETELD|\n|          NONE|\n|          NONE|\n+--------------+\nonly showing top 20 rows\n\n",
          "name": "stdout"
        }
      ]
    },
    {
      "metadata": {},
      "cell_type": "markdown",
      "source": "# when\n#### Dataframe equivalent of case "
    },
    {
      "metadata": {
        "trusted": true
      },
      "cell_type": "code",
      "source": "orders.withColumn('Derived_Status',when(orders.order_status.isin('COMPLETED','CLOSED'),'OVER'). \\\n                  when(orders.order_status.isin('CANCELED'),'PENDING').otherwise('NONE')).show()",
      "execution_count": 18,
      "outputs": [
        {
          "output_type": "stream",
          "text": "+--------+----------+-----------------+---------------+--------------+\n|order_id|order_date|order_customer_id|   order_status|Derived_Status|\n+--------+----------+-----------------+---------------+--------------+\n|       1|2013-07-25|            11599|         CLOSED|          OVER|\n|       2|2013-07-25|              256|PENDING_PAYMENT|          NONE|\n|       3|2013-07-25|            12111|       COMPLETE|          NONE|\n|       4|2013-07-25|             8827|         CLOSED|          OVER|\n|       5|2013-07-25|            11318|       COMPLETE|          NONE|\n|       6|2013-07-25|             7130|       COMPLETE|          NONE|\n|       7|2013-07-25|             4530|       COMPLETE|          NONE|\n|       8|2013-07-25|             2911|     PROCESSING|          NONE|\n|       9|2013-07-25|             5657|PENDING_PAYMENT|          NONE|\n|      10|2013-07-25|             5648|PENDING_PAYMENT|          NONE|\n|      11|2013-07-25|              918| PAYMENT_REVIEW|          NONE|\n|      12|2013-07-25|             1837|         CLOSED|          OVER|\n|      13|2013-07-25|             9149|PENDING_PAYMENT|          NONE|\n|      14|2013-07-25|             9842|     PROCESSING|          NONE|\n|      15|2013-07-25|             2568|       COMPLETE|          NONE|\n|      16|2013-07-25|             7276|PENDING_PAYMENT|          NONE|\n|      17|2013-07-25|             2667|       COMPLETE|          NONE|\n|      18|2013-07-25|             1205|         CLOSED|          OVER|\n|      19|2013-07-25|             9488|PENDING_PAYMENT|          NONE|\n|      20|2013-07-25|             9198|     PROCESSING|          NONE|\n+--------+----------+-----------------+---------------+--------------+\nonly showing top 20 rows\n\n",
          "name": "stdout"
        }
      ]
    },
    {
      "metadata": {},
      "cell_type": "markdown",
      "source": "# withColumnRenamed\n#### columns can be renamed with this API, where the first argument is the existing column name and the second argument is the new name."
    },
    {
      "metadata": {
        "trusted": true
      },
      "cell_type": "code",
      "source": "orders.withColumnRenamed('order_status','status_of_order').show()",
      "execution_count": 20,
      "outputs": [
        {
          "output_type": "stream",
          "text": "+--------+----------+-----------------+---------------+\n|order_id|order_date|order_customer_id|status_of_order|\n+--------+----------+-----------------+---------------+\n|       1|2013-07-25|            11599|         CLOSED|\n|       2|2013-07-25|              256|PENDING_PAYMENT|\n|       3|2013-07-25|            12111|       COMPLETE|\n|       4|2013-07-25|             8827|         CLOSED|\n|       5|2013-07-25|            11318|       COMPLETE|\n|       6|2013-07-25|             7130|       COMPLETE|\n|       7|2013-07-25|             4530|       COMPLETE|\n|       8|2013-07-25|             2911|     PROCESSING|\n|       9|2013-07-25|             5657|PENDING_PAYMENT|\n|      10|2013-07-25|             5648|PENDING_PAYMENT|\n|      11|2013-07-25|              918| PAYMENT_REVIEW|\n|      12|2013-07-25|             1837|         CLOSED|\n|      13|2013-07-25|             9149|PENDING_PAYMENT|\n|      14|2013-07-25|             9842|     PROCESSING|\n|      15|2013-07-25|             2568|       COMPLETE|\n|      16|2013-07-25|             7276|PENDING_PAYMENT|\n|      17|2013-07-25|             2667|       COMPLETE|\n|      18|2013-07-25|             1205|         CLOSED|\n|      19|2013-07-25|             9488|PENDING_PAYMENT|\n|      20|2013-07-25|             9198|     PROCESSING|\n+--------+----------+-----------------+---------------+\nonly showing top 20 rows\n\n",
          "name": "stdout"
        }
      ]
    },
    {
      "metadata": {},
      "cell_type": "markdown",
      "source": "# filter"
    },
    {
      "metadata": {},
      "cell_type": "markdown",
      "source": "#### filter as in SQL format"
    },
    {
      "metadata": {
        "trusted": true
      },
      "cell_type": "code",
      "source": "orders.filter(\"order_status = 'COMPLETE'\").show()\n#Note: Single '=' as in SQL format",
      "execution_count": 21,
      "outputs": [
        {
          "output_type": "stream",
          "text": "+--------+----------+-----------------+------------+\n|order_id|order_date|order_customer_id|order_status|\n+--------+----------+-----------------+------------+\n|       3|2013-07-25|            12111|    COMPLETE|\n|       5|2013-07-25|            11318|    COMPLETE|\n|       6|2013-07-25|             7130|    COMPLETE|\n|       7|2013-07-25|             4530|    COMPLETE|\n|      15|2013-07-25|             2568|    COMPLETE|\n|      17|2013-07-25|             2667|    COMPLETE|\n|      22|2013-07-25|              333|    COMPLETE|\n|      26|2013-07-25|             7562|    COMPLETE|\n|      28|2013-07-25|              656|    COMPLETE|\n|      32|2013-07-25|             3960|    COMPLETE|\n|      35|2013-07-25|             4840|    COMPLETE|\n|      45|2013-07-25|             2636|    COMPLETE|\n|      56|2013-07-25|            10519|    COMPLETE|\n|      63|2013-07-25|             1148|    COMPLETE|\n|      65|2013-07-25|             5903|    COMPLETE|\n|      67|2013-07-25|             1406|    COMPLETE|\n|      71|2013-07-25|             8646|    COMPLETE|\n|      72|2013-07-25|             4349|    COMPLETE|\n|      76|2013-07-25|             6898|    COMPLETE|\n|      80|2013-07-25|             3007|    COMPLETE|\n+--------+----------+-----------------+------------+\nonly showing top 20 rows\n\n",
          "name": "stdout"
        }
      ]
    },
    {
      "metadata": {},
      "cell_type": "markdown",
      "source": "#### filter as in Dataframe format"
    },
    {
      "metadata": {
        "trusted": true
      },
      "cell_type": "code",
      "source": "orders.filter(orders.order_status == 'COMPLETE').show()\n#Note: Equality operator '==' for dataframe filter expression ",
      "execution_count": 22,
      "outputs": [
        {
          "output_type": "stream",
          "text": "+--------+----------+-----------------+------------+\n|order_id|order_date|order_customer_id|order_status|\n+--------+----------+-----------------+------------+\n|       3|2013-07-25|            12111|    COMPLETE|\n|       5|2013-07-25|            11318|    COMPLETE|\n|       6|2013-07-25|             7130|    COMPLETE|\n|       7|2013-07-25|             4530|    COMPLETE|\n|      15|2013-07-25|             2568|    COMPLETE|\n|      17|2013-07-25|             2667|    COMPLETE|\n|      22|2013-07-25|              333|    COMPLETE|\n|      26|2013-07-25|             7562|    COMPLETE|\n|      28|2013-07-25|              656|    COMPLETE|\n|      32|2013-07-25|             3960|    COMPLETE|\n|      35|2013-07-25|             4840|    COMPLETE|\n|      45|2013-07-25|             2636|    COMPLETE|\n|      56|2013-07-25|            10519|    COMPLETE|\n|      63|2013-07-25|             1148|    COMPLETE|\n|      65|2013-07-25|             5903|    COMPLETE|\n|      67|2013-07-25|             1406|    COMPLETE|\n|      71|2013-07-25|             8646|    COMPLETE|\n|      72|2013-07-25|             4349|    COMPLETE|\n|      76|2013-07-25|             6898|    COMPLETE|\n|      80|2013-07-25|             3007|    COMPLETE|\n+--------+----------+-----------------+------------+\nonly showing top 20 rows\n\n",
          "name": "stdout"
        }
      ]
    },
    {
      "metadata": {},
      "cell_type": "markdown",
      "source": "#### multiple filters in SQL format filter"
    },
    {
      "metadata": {
        "trusted": true
      },
      "cell_type": "code",
      "source": "orders.filter(\"order_status = 'COMPLETE' OR order_status = 'CLOSED'\").show()",
      "execution_count": 23,
      "outputs": [
        {
          "output_type": "stream",
          "text": "+--------+----------+-----------------+------------+\n|order_id|order_date|order_customer_id|order_status|\n+--------+----------+-----------------+------------+\n|       1|2013-07-25|            11599|      CLOSED|\n|       3|2013-07-25|            12111|    COMPLETE|\n|       4|2013-07-25|             8827|      CLOSED|\n|       5|2013-07-25|            11318|    COMPLETE|\n|       6|2013-07-25|             7130|    COMPLETE|\n|       7|2013-07-25|             4530|    COMPLETE|\n|      12|2013-07-25|             1837|      CLOSED|\n|      15|2013-07-25|             2568|    COMPLETE|\n|      17|2013-07-25|             2667|    COMPLETE|\n|      18|2013-07-25|             1205|      CLOSED|\n|      22|2013-07-25|              333|    COMPLETE|\n|      24|2013-07-25|            11441|      CLOSED|\n|      25|2013-07-25|             9503|      CLOSED|\n|      26|2013-07-25|             7562|    COMPLETE|\n|      28|2013-07-25|              656|    COMPLETE|\n|      32|2013-07-25|             3960|    COMPLETE|\n|      35|2013-07-25|             4840|    COMPLETE|\n|      37|2013-07-25|             5863|      CLOSED|\n|      45|2013-07-25|             2636|    COMPLETE|\n|      51|2013-07-25|            12271|      CLOSED|\n+--------+----------+-----------------+------------+\nonly showing top 20 rows\n\n",
          "name": "stdout"
        }
      ]
    },
    {
      "metadata": {},
      "cell_type": "markdown",
      "source": "#### multiple filters in DataFrame format"
    },
    {
      "metadata": {
        "trusted": true
      },
      "cell_type": "code",
      "source": "orders.filter((orders.order_status == 'COMPLETE').__or__(orders.order_status == 'CLOSED')).show()",
      "execution_count": 24,
      "outputs": [
        {
          "output_type": "stream",
          "text": "+--------+----------+-----------------+------------+\n|order_id|order_date|order_customer_id|order_status|\n+--------+----------+-----------------+------------+\n|       1|2013-07-25|            11599|      CLOSED|\n|       3|2013-07-25|            12111|    COMPLETE|\n|       4|2013-07-25|             8827|      CLOSED|\n|       5|2013-07-25|            11318|    COMPLETE|\n|       6|2013-07-25|             7130|    COMPLETE|\n|       7|2013-07-25|             4530|    COMPLETE|\n|      12|2013-07-25|             1837|      CLOSED|\n|      15|2013-07-25|             2568|    COMPLETE|\n|      17|2013-07-25|             2667|    COMPLETE|\n|      18|2013-07-25|             1205|      CLOSED|\n|      22|2013-07-25|              333|    COMPLETE|\n|      24|2013-07-25|            11441|      CLOSED|\n|      25|2013-07-25|             9503|      CLOSED|\n|      26|2013-07-25|             7562|    COMPLETE|\n|      28|2013-07-25|              656|    COMPLETE|\n|      32|2013-07-25|             3960|    COMPLETE|\n|      35|2013-07-25|             4840|    COMPLETE|\n|      37|2013-07-25|             5863|      CLOSED|\n|      45|2013-07-25|             2636|    COMPLETE|\n|      51|2013-07-25|            12271|      CLOSED|\n+--------+----------+-----------------+------------+\nonly showing top 20 rows\n\n",
          "name": "stdout"
        }
      ]
    },
    {
      "metadata": {},
      "cell_type": "markdown",
      "source": "###### Examples of few multiple filters"
    },
    {
      "metadata": {
        "trusted": true
      },
      "cell_type": "code",
      "source": "orders.filter(\"order_status in ('COMPLETE' ,'CLOSED') AND date_format(order_date,'yyyyMM') = '201308'\").show()",
      "execution_count": 25,
      "outputs": [
        {
          "output_type": "stream",
          "text": "+--------+----------+-----------------+------------+\n|order_id|order_date|order_customer_id|order_status|\n+--------+----------+-----------------+------------+\n|    1297|2013-08-01|            11607|    COMPLETE|\n|    1298|2013-08-01|             5105|      CLOSED|\n|    1299|2013-08-01|             7802|    COMPLETE|\n|    1302|2013-08-01|             1695|    COMPLETE|\n|    1304|2013-08-01|             2059|    COMPLETE|\n|    1305|2013-08-01|             3844|    COMPLETE|\n|    1307|2013-08-01|             4474|    COMPLETE|\n|    1309|2013-08-01|             2367|      CLOSED|\n|    1312|2013-08-01|            12291|    COMPLETE|\n|    1314|2013-08-01|            10993|    COMPLETE|\n|    1315|2013-08-01|             5660|    COMPLETE|\n|    1318|2013-08-01|             4212|    COMPLETE|\n|    1319|2013-08-01|             3966|    COMPLETE|\n|    1320|2013-08-01|            12270|    COMPLETE|\n|    1321|2013-08-01|              800|    COMPLETE|\n|    1322|2013-08-01|             9264|    COMPLETE|\n|    1323|2013-08-01|             7422|    COMPLETE|\n|    1324|2013-08-01|             4600|    COMPLETE|\n|    1327|2013-08-01|             9526|    COMPLETE|\n|    1329|2013-08-01|             6070|      CLOSED|\n+--------+----------+-----------------+------------+\nonly showing top 20 rows\n\n",
          "name": "stdout"
        }
      ]
    },
    {
      "metadata": {
        "trusted": true
      },
      "cell_type": "code",
      "source": "orders.filter((orders.order_status.isin('CLOSED','COMPLETE')).__and__(date_format(orders.order_date,'YYYYMM')=='201308')).show()",
      "execution_count": 26,
      "outputs": [
        {
          "output_type": "stream",
          "text": "+--------+----------+-----------------+------------+\n|order_id|order_date|order_customer_id|order_status|\n+--------+----------+-----------------+------------+\n|    1297|2013-08-01|            11607|    COMPLETE|\n|    1298|2013-08-01|             5105|      CLOSED|\n|    1299|2013-08-01|             7802|    COMPLETE|\n|    1302|2013-08-01|             1695|    COMPLETE|\n|    1304|2013-08-01|             2059|    COMPLETE|\n|    1305|2013-08-01|             3844|    COMPLETE|\n|    1307|2013-08-01|             4474|    COMPLETE|\n|    1309|2013-08-01|             2367|      CLOSED|\n|    1312|2013-08-01|            12291|    COMPLETE|\n|    1314|2013-08-01|            10993|    COMPLETE|\n|    1315|2013-08-01|             5660|    COMPLETE|\n|    1318|2013-08-01|             4212|    COMPLETE|\n|    1319|2013-08-01|             3966|    COMPLETE|\n|    1320|2013-08-01|            12270|    COMPLETE|\n|    1321|2013-08-01|              800|    COMPLETE|\n|    1322|2013-08-01|             9264|    COMPLETE|\n|    1323|2013-08-01|             7422|    COMPLETE|\n|    1324|2013-08-01|             4600|    COMPLETE|\n|    1327|2013-08-01|             9526|    COMPLETE|\n|    1329|2013-08-01|             6070|      CLOSED|\n+--------+----------+-----------------+------------+\nonly showing top 20 rows\n\n",
          "name": "stdout"
        }
      ]
    },
    {
      "metadata": {
        "trusted": true
      },
      "cell_type": "code",
      "source": "orders.filter('order_customer_id >= 1000').filter('order_customer_id != 1000').filter(orders.order_id.between(1000,1999)).show()",
      "execution_count": 27,
      "outputs": [
        {
          "output_type": "stream",
          "text": "+--------+----------+-----------------+---------------+\n|order_id|order_date|order_customer_id|   order_status|\n+--------+----------+-----------------+---------------+\n|    1000|2013-07-30|             2321|         CLOSED|\n|    1001|2013-07-30|             6650|       COMPLETE|\n|    1002|2013-07-30|             5170|SUSPECTED_FRAUD|\n|    1003|2013-07-30|             7438|       COMPLETE|\n|    1004|2013-07-30|            10701|       COMPLETE|\n|    1005|2013-07-30|             7958|     PROCESSING|\n|    1006|2013-07-30|             9028|       COMPLETE|\n|    1007|2013-07-30|             1417|PENDING_PAYMENT|\n|    1008|2013-07-30|             4331|         CLOSED|\n|    1009|2013-07-30|             7886|       COMPLETE|\n|    1010|2013-07-30|             2512|       COMPLETE|\n|    1011|2013-07-30|             7214|       COMPLETE|\n|    1012|2013-07-30|             3245|         CLOSED|\n|    1013|2013-07-30|             1903|       CANCELED|\n|    1014|2013-07-30|            12077|     PROCESSING|\n|    1015|2013-07-30|             1136|PENDING_PAYMENT|\n|    1016|2013-07-30|             5231|PENDING_PAYMENT|\n|    1017|2013-07-30|             3781|     PROCESSING|\n|    1019|2013-07-30|             4475|PENDING_PAYMENT|\n|    1020|2013-07-30|             4815|PENDING_PAYMENT|\n+--------+----------+-----------------+---------------+\nonly showing top 20 rows\n\n",
          "name": "stdout"
        }
      ]
    },
    {
      "metadata": {},
      "cell_type": "markdown",
      "source": "# join"
    },
    {
      "metadata": {},
      "cell_type": "markdown",
      "source": "#### simple inner join with one column mapping"
    },
    {
      "metadata": {
        "trusted": true
      },
      "cell_type": "code",
      "source": "orders.join(order_items, orders.order_id==order_items.order_item_order_id).show()",
      "execution_count": 28,
      "outputs": [
        {
          "output_type": "stream",
          "text": "+--------+----------+-----------------+---------------+-------------+-------------------+---------------------+-------------------+-------------------+------------------------+\n|order_id|order_date|order_customer_id|   order_status|order_item_id|order_item_order_id|order_item_product_id|order_item_quantity|order_item_subtotal|order_item_product_price|\n+--------+----------+-----------------+---------------+-------------+-------------------+---------------------+-------------------+-------------------+------------------------+\n|       1|2013-07-25|            11599|         CLOSED|            1|                  1|                  957|                  1|             299.98|                  299.98|\n|       2|2013-07-25|              256|PENDING_PAYMENT|            2|                  2|                 1073|                  1|             199.99|                  199.99|\n|       2|2013-07-25|              256|PENDING_PAYMENT|            3|                  2|                  502|                  5|              250.0|                    50.0|\n|       2|2013-07-25|              256|PENDING_PAYMENT|            4|                  2|                  403|                  1|             129.99|                  129.99|\n|       4|2013-07-25|             8827|         CLOSED|            5|                  4|                  897|                  2|              49.98|                   24.99|\n|       4|2013-07-25|             8827|         CLOSED|            6|                  4|                  365|                  5|             299.95|                   59.99|\n|       4|2013-07-25|             8827|         CLOSED|            7|                  4|                  502|                  3|              150.0|                    50.0|\n|       4|2013-07-25|             8827|         CLOSED|            8|                  4|                 1014|                  4|             199.92|                   49.98|\n|       5|2013-07-25|            11318|       COMPLETE|            9|                  5|                  957|                  1|             299.98|                  299.98|\n|       5|2013-07-25|            11318|       COMPLETE|           10|                  5|                  365|                  5|             299.95|                   59.99|\n|       5|2013-07-25|            11318|       COMPLETE|           11|                  5|                 1014|                  2|              99.96|                   49.98|\n|       5|2013-07-25|            11318|       COMPLETE|           12|                  5|                  957|                  1|             299.98|                  299.98|\n|       5|2013-07-25|            11318|       COMPLETE|           13|                  5|                  403|                  1|             129.99|                  129.99|\n|       7|2013-07-25|             4530|       COMPLETE|           14|                  7|                 1073|                  1|             199.99|                  199.99|\n|       7|2013-07-25|             4530|       COMPLETE|           15|                  7|                  957|                  1|             299.98|                  299.98|\n|       7|2013-07-25|             4530|       COMPLETE|           16|                  7|                  926|                  5|              79.95|                   15.99|\n|       8|2013-07-25|             2911|     PROCESSING|           17|                  8|                  365|                  3|             179.97|                   59.99|\n|       8|2013-07-25|             2911|     PROCESSING|           18|                  8|                  365|                  5|             299.95|                   59.99|\n|       8|2013-07-25|             2911|     PROCESSING|           19|                  8|                 1014|                  4|             199.92|                   49.98|\n|       8|2013-07-25|             2911|     PROCESSING|           20|                  8|                  502|                  1|               50.0|                    50.0|\n+--------+----------+-----------------+---------------+-------------+-------------------+---------------------+-------------------+-------------------+------------------------+\nonly showing top 20 rows\n\n",
          "name": "stdout"
        }
      ]
    },
    {
      "metadata": {},
      "cell_type": "markdown",
      "source": "#### inner join with multiple columns"
    },
    {
      "metadata": {
        "trusted": true
      },
      "cell_type": "code",
      "source": "orders.join(order_items, (orders.order_id==order_items.order_item_order_id) & (orders.order_id==order_items.order_item_order_id)).show()",
      "execution_count": 29,
      "outputs": [
        {
          "output_type": "stream",
          "text": "+--------+----------+-----------------+---------------+-------------+-------------------+---------------------+-------------------+-------------------+------------------------+\n|order_id|order_date|order_customer_id|   order_status|order_item_id|order_item_order_id|order_item_product_id|order_item_quantity|order_item_subtotal|order_item_product_price|\n+--------+----------+-----------------+---------------+-------------+-------------------+---------------------+-------------------+-------------------+------------------------+\n|       1|2013-07-25|            11599|         CLOSED|            1|                  1|                  957|                  1|             299.98|                  299.98|\n|       2|2013-07-25|              256|PENDING_PAYMENT|            2|                  2|                 1073|                  1|             199.99|                  199.99|\n|       2|2013-07-25|              256|PENDING_PAYMENT|            3|                  2|                  502|                  5|              250.0|                    50.0|\n|       2|2013-07-25|              256|PENDING_PAYMENT|            4|                  2|                  403|                  1|             129.99|                  129.99|\n|       4|2013-07-25|             8827|         CLOSED|            5|                  4|                  897|                  2|              49.98|                   24.99|\n|       4|2013-07-25|             8827|         CLOSED|            6|                  4|                  365|                  5|             299.95|                   59.99|\n|       4|2013-07-25|             8827|         CLOSED|            7|                  4|                  502|                  3|              150.0|                    50.0|\n|       4|2013-07-25|             8827|         CLOSED|            8|                  4|                 1014|                  4|             199.92|                   49.98|\n|       5|2013-07-25|            11318|       COMPLETE|            9|                  5|                  957|                  1|             299.98|                  299.98|\n|       5|2013-07-25|            11318|       COMPLETE|           10|                  5|                  365|                  5|             299.95|                   59.99|\n|       5|2013-07-25|            11318|       COMPLETE|           11|                  5|                 1014|                  2|              99.96|                   49.98|\n|       5|2013-07-25|            11318|       COMPLETE|           12|                  5|                  957|                  1|             299.98|                  299.98|\n|       5|2013-07-25|            11318|       COMPLETE|           13|                  5|                  403|                  1|             129.99|                  129.99|\n|       7|2013-07-25|             4530|       COMPLETE|           14|                  7|                 1073|                  1|             199.99|                  199.99|\n|       7|2013-07-25|             4530|       COMPLETE|           15|                  7|                  957|                  1|             299.98|                  299.98|\n|       7|2013-07-25|             4530|       COMPLETE|           16|                  7|                  926|                  5|              79.95|                   15.99|\n|       8|2013-07-25|             2911|     PROCESSING|           17|                  8|                  365|                  3|             179.97|                   59.99|\n|       8|2013-07-25|             2911|     PROCESSING|           18|                  8|                  365|                  5|             299.95|                   59.99|\n|       8|2013-07-25|             2911|     PROCESSING|           19|                  8|                 1014|                  4|             199.92|                   49.98|\n|       8|2013-07-25|             2911|     PROCESSING|           20|                  8|                  502|                  1|               50.0|                    50.0|\n+--------+----------+-----------------+---------------+-------------+-------------------+---------------------+-------------------+-------------------+------------------------+\nonly showing top 20 rows\n\n",
          "name": "stdout"
        }
      ]
    },
    {
      "metadata": {},
      "cell_type": "markdown",
      "source": "#### left join"
    },
    {
      "metadata": {
        "trusted": true
      },
      "cell_type": "code",
      "source": "customers.join(orders, customers.customer_id==orders.order_customer_id, 'left').show()",
      "execution_count": 33,
      "outputs": [
        {
          "output_type": "stream",
          "text": "+-----------+--------------+--------------+--------------+-----------------+--------------------+-------------+--------------+----------------+--------+-------------------+-----------------+---------------+\n|customer_id|customer_fname|customer_lname|customer_email|customer_password|     customer_street|customer_city|customer_state|customer_zipcode|order_id|         order_date|order_customer_id|   order_status|\n+-----------+--------------+--------------+--------------+-----------------+--------------------+-------------+--------------+----------------+--------+-------------------+-----------------+---------------+\n|          1|       Richard|     Hernandez|     XXXXXXXXX|        XXXXXXXXX|  6303 Heather Plaza|  Brownsville|            TX|           78521|   22945|2013-12-13 00:00:00|                1|       COMPLETE|\n|          2|          Mary|       Barrett|     XXXXXXXXX|        XXXXXXXXX|9526 Noble Embers...|    Littleton|            CO|           80126|   67863|2013-11-30 00:00:00|                2|       COMPLETE|\n|          2|          Mary|       Barrett|     XXXXXXXXX|        XXXXXXXXX|9526 Noble Embers...|    Littleton|            CO|           80126|   57963|2013-08-02 00:00:00|                2|        ON_HOLD|\n|          2|          Mary|       Barrett|     XXXXXXXXX|        XXXXXXXXX|9526 Noble Embers...|    Littleton|            CO|           80126|   33865|2014-02-18 00:00:00|                2|       COMPLETE|\n|          2|          Mary|       Barrett|     XXXXXXXXX|        XXXXXXXXX|9526 Noble Embers...|    Littleton|            CO|           80126|   15192|2013-10-29 00:00:00|                2|PENDING_PAYMENT|\n|          3|           Ann|         Smith|     XXXXXXXXX|        XXXXXXXXX|3422 Blue Pioneer...|       Caguas|            PR|             725|   61453|2013-12-14 00:00:00|                3|       COMPLETE|\n|          3|           Ann|         Smith|     XXXXXXXXX|        XXXXXXXXX|3422 Blue Pioneer...|       Caguas|            PR|             725|   57617|2014-07-24 00:00:00|                3|       COMPLETE|\n|          3|           Ann|         Smith|     XXXXXXXXX|        XXXXXXXXX|3422 Blue Pioneer...|       Caguas|            PR|             725|   56178|2014-07-15 00:00:00|                3|        PENDING|\n|          3|           Ann|         Smith|     XXXXXXXXX|        XXXXXXXXX|3422 Blue Pioneer...|       Caguas|            PR|             725|   46399|2014-05-09 00:00:00|                3|     PROCESSING|\n|          3|           Ann|         Smith|     XXXXXXXXX|        XXXXXXXXX|3422 Blue Pioneer...|       Caguas|            PR|             725|   35158|2014-02-26 00:00:00|                3|       COMPLETE|\n|          3|           Ann|         Smith|     XXXXXXXXX|        XXXXXXXXX|3422 Blue Pioneer...|       Caguas|            PR|             725|   23662|2013-12-19 00:00:00|                3|       COMPLETE|\n|          3|           Ann|         Smith|     XXXXXXXXX|        XXXXXXXXX|3422 Blue Pioneer...|       Caguas|            PR|             725|   22646|2013-12-11 00:00:00|                3|       COMPLETE|\n|          4|          Mary|         Jones|     XXXXXXXXX|        XXXXXXXXX|  8324 Little Common|   San Marcos|            CA|           92069|   51157|2014-06-10 00:00:00|                4|         CLOSED|\n|          4|          Mary|         Jones|     XXXXXXXXX|        XXXXXXXXX|  8324 Little Common|   San Marcos|            CA|           92069|   49339|2014-05-28 00:00:00|                4|       COMPLETE|\n|          4|          Mary|         Jones|     XXXXXXXXX|        XXXXXXXXX|  8324 Little Common|   San Marcos|            CA|           92069|   37878|2014-03-15 00:00:00|                4|       COMPLETE|\n|          4|          Mary|         Jones|     XXXXXXXXX|        XXXXXXXXX|  8324 Little Common|   San Marcos|            CA|           92069|   17253|2013-11-09 00:00:00|                4|PENDING_PAYMENT|\n|          4|          Mary|         Jones|     XXXXXXXXX|        XXXXXXXXX|  8324 Little Common|   San Marcos|            CA|           92069|    9704|2013-09-24 00:00:00|                4|       COMPLETE|\n|          4|          Mary|         Jones|     XXXXXXXXX|        XXXXXXXXX|  8324 Little Common|   San Marcos|            CA|           92069|    9023|2013-09-19 00:00:00|                4|       COMPLETE|\n|          5|        Robert|        Hudson|     XXXXXXXXX|        XXXXXXXXX|10 Crystal River ...|       Caguas|            PR|             725|   45832|2014-05-05 00:00:00|                5|PENDING_PAYMENT|\n|          5|        Robert|        Hudson|     XXXXXXXXX|        XXXXXXXXX|10 Crystal River ...|       Caguas|            PR|             725|   41333|2014-04-05 00:00:00|                5|       COMPLETE|\n+-----------+--------------+--------------+--------------+-----------------+--------------------+-------------+--------------+----------------+--------+-------------------+-----------------+---------------+\nonly showing top 20 rows\n\n",
          "name": "stdout"
        }
      ]
    },
    {
      "metadata": {},
      "cell_type": "markdown",
      "source": "#### right join"
    },
    {
      "metadata": {
        "trusted": true
      },
      "cell_type": "code",
      "source": "customers.join(orders, customers.customer_id==orders.order_customer_id, 'right').show()",
      "execution_count": 34,
      "outputs": [
        {
          "output_type": "stream",
          "text": "+-----------+--------------+--------------+--------------+-----------------+--------------------+-------------+--------------+----------------+--------+-------------------+-----------------+---------------+\n|customer_id|customer_fname|customer_lname|customer_email|customer_password|     customer_street|customer_city|customer_state|customer_zipcode|order_id|         order_date|order_customer_id|   order_status|\n+-----------+--------------+--------------+--------------+-----------------+--------------------+-------------+--------------+----------------+--------+-------------------+-----------------+---------------+\n|      11599|          Mary|        Malone|     XXXXXXXXX|        XXXXXXXXX|8708 Indian Horse...|      Hickory|            NC|           28601|       1|2013-07-25 00:00:00|            11599|         CLOSED|\n|        256|         David|     Rodriguez|     XXXXXXXXX|        XXXXXXXXX|7605 Tawny Horse ...|      Chicago|            IL|           60625|       2|2013-07-25 00:00:00|              256|PENDING_PAYMENT|\n|      12111|         Amber|        Franco|     XXXXXXXXX|        XXXXXXXXX|8766 Clear Prairi...|   Santa Cruz|            CA|           95060|       3|2013-07-25 00:00:00|            12111|       COMPLETE|\n|       8827|         Brian|        Wilson|     XXXXXXXXX|        XXXXXXXXX|   8396 High Corners|  San Antonio|            TX|           78240|       4|2013-07-25 00:00:00|             8827|         CLOSED|\n|      11318|          Mary|         Henry|     XXXXXXXXX|        XXXXXXXXX|3047 Silent Ember...|       Caguas|            PR|             725|       5|2013-07-25 00:00:00|            11318|       COMPLETE|\n|       7130|         Alice|         Smith|     XXXXXXXXX|        XXXXXXXXX|      8852 Iron Port|     Brooklyn|            NY|           11237|       6|2013-07-25 00:00:00|             7130|       COMPLETE|\n|       4530|          Mary|         Smith|     XXXXXXXXX|        XXXXXXXXX|1073 Green Leaf G...|        Miami|            FL|           33161|       7|2013-07-25 00:00:00|             4530|       COMPLETE|\n|       2911|          Mary|         Smith|     XXXXXXXXX|        XXXXXXXXX|9166 Golden Necta...|       Caguas|            PR|             725|       8|2013-07-25 00:00:00|             2911|     PROCESSING|\n|       5657|          Mary|         James|     XXXXXXXXX|        XXXXXXXXX|  1389 Dusty Circuit|     Lakewood|            OH|           44107|       9|2013-07-25 00:00:00|             5657|PENDING_PAYMENT|\n|       5648|        Joshua|         Smith|     XXXXXXXXX|        XXXXXXXXX|864 Iron Spring S...|      Memphis|            TN|           38111|      10|2013-07-25 00:00:00|             5648|PENDING_PAYMENT|\n|        918|        Nathan|         Smith|     XXXXXXXXX|        XXXXXXXXX|    9627 Honey Trail|       Caguas|            PR|             725|      11|2013-07-25 00:00:00|              918| PAYMENT_REVIEW|\n|       1837|          Mary|          Vega|     XXXXXXXXX|        XXXXXXXXX|  4312 Bright Corner|       Caguas|            PR|             725|      12|2013-07-25 00:00:00|             1837|         CLOSED|\n|       9149|        Ronald|     Whitehead|     XXXXXXXXX|        XXXXXXXXX|6789 Round Robin ...|    Santa Ana|            CA|           92705|      13|2013-07-25 00:00:00|             9149|PENDING_PAYMENT|\n|       9842|          Mary|         Smith|     XXXXXXXXX|        XXXXXXXXX|454 Lazy Branch F...|       Caguas|            PR|             725|      14|2013-07-25 00:00:00|             9842|     PROCESSING|\n|       2568|         Maria|         Smith|     XXXXXXXXX|        XXXXXXXXX|   3544 Fallen Mount|      Memphis|            TN|           38127|      15|2013-07-25 00:00:00|             2568|       COMPLETE|\n|       7276|        Pamela|         Smith|     XXXXXXXXX|        XXXXXXXXX|    9243 Old Gardens|       Caguas|            PR|             725|      16|2013-07-25 00:00:00|             7276|PENDING_PAYMENT|\n|       2667|         Tammy|         Smith|     XXXXXXXXX|        XXXXXXXXX|    8906 Rustic Mall|   Sun Valley|            CA|           91352|      17|2013-07-25 00:00:00|             2667|       COMPLETE|\n|       1205|          Mary|        Powell|     XXXXXXXXX|        XXXXXXXXX|9299 Quiet Pionee...|        Miami|            FL|           33126|      18|2013-07-25 00:00:00|             1205|         CLOSED|\n|       9488|          Mary|         Smith|     XXXXXXXXX|        XXXXXXXXX|    9758 Foggy Range|      Hialeah|            FL|           33012|      19|2013-07-25 00:00:00|             9488|PENDING_PAYMENT|\n|       9198|         David|          Kerr|     XXXXXXXXX|        XXXXXXXXX|7312 Crystal Will...|Bowling Green|            KY|           42101|      20|2013-07-25 00:00:00|             9198|     PROCESSING|\n+-----------+--------------+--------------+--------------+-----------------+--------------------+-------------+--------------+----------------+--------+-------------------+-----------------+---------------+\nonly showing top 20 rows\n\n",
          "name": "stdout"
        }
      ]
    },
    {
      "metadata": {},
      "cell_type": "markdown",
      "source": "#### leftanti join - Join to fetch records which exists only in one table\nIn the below case it will fetch the records which are present only in the orders and not in order_items"
    },
    {
      "metadata": {
        "trusted": true
      },
      "cell_type": "code",
      "source": "customers.join(orders, orders.order_customer_id==customers.customer_id, 'leftanti').show()",
      "execution_count": 36,
      "outputs": [
        {
          "output_type": "stream",
          "text": "+-----------+--------------+--------------+--------------+-----------------+--------------------+-------------------+--------------+----------------+\n|customer_id|customer_fname|customer_lname|customer_email|customer_password|     customer_street|      customer_city|customer_state|customer_zipcode|\n+-----------+--------------+--------------+--------------+-----------------+--------------------+-------------------+--------------+----------------+\n|        219|          Mary|       Harrell|     XXXXXXXXX|        XXXXXXXXX|9016 Foggy Robin ...|             Denver|            CO|           80219|\n|        339|          Mary|        Greene|     XXXXXXXXX|        XXXXXXXXX|     4271 Hazy Close|         Long Beach|            CA|           90805|\n|        469|         Randy|         Smith|     XXXXXXXXX|        XXXXXXXXX|252 Golden Goose ...|South San Francisco|            CA|           94080|\n|       1187|       Dorothy|       Vazquez|     XXXXXXXXX|        XXXXXXXXX| 363 Green Goose Run|            Danbury|            CT|            6810|\n|       1481|         Grace|         Smith|     XXXXXXXXX|        XXXXXXXXX|2171 Clear Lake Isle|             Caguas|            PR|             725|\n|       1808|        Albert|       Ellison|     XXXXXXXXX|        XXXXXXXXX|   9795 Heather Wynd|           Billings|            MT|           59102|\n|       2073|         Donna|      Stephens|     XXXXXXXXX|        XXXXXXXXX|   9792 Cozy Corners|          Sunnyvale|            CA|           94087|\n|       2096|          Jose|        Tanner|     XXXXXXXXX|        XXXXXXXXX|8976 Old Hickory ...|              Bronx|            NY|           10467|\n|       2450|         James|         Smith|     XXXXXXXXX|        XXXXXXXXX|4063 Little Creek...|             Newark|            DE|           19702|\n|       4555|          Mary|         Smith|     XXXXXXXXX|        XXXXXXXXX|5455 Red Lagoon Maze|             Caguas|            PR|             725|\n|       4927|       Carolyn|         Green|     XXXXXXXXX|        XXXXXXXXX|7550 Sleepy View ...|             Caguas|            PR|             725|\n|       6072|       Stephen|         Smith|     XXXXXXXXX|        XXXXXXXXX|849 Noble Apple P...|             Malden|            MA|            2148|\n|       6613|        Ashley|         Smith|     XXXXXXXXX|        XXXXXXXXX|9847 Dusty Horse ...|             Caguas|            PR|             725|\n|       7011|         Kevin|         Smith|     XXXXXXXXX|        XXXXXXXXX|1915 Thunder Hick...|          Wyandotte|            MI|           48192|\n|       7552|          Carl|         Smith|     XXXXXXXXX|        XXXXXXXXX|    9966 Cinder Loop|             Howell|            MI|           48843|\n|       8243|          Gary|        Walker|     XXXXXXXXX|        XXXXXXXXX|2447 Stony Barn S...|           New York|            NY|           10128|\n|       8343|          Mary|        Bolton|     XXXXXXXXX|        XXXXXXXXX|   7302 Sunny Valley|             Caguas|            PR|             725|\n|       8575|          Mary|       Mueller|     XXXXXXXXX|        XXXXXXXXX|9714 Emerald Bear...|             Caguas|            PR|             725|\n|       8778|          Mary|         Smith|     XXXXXXXXX|        XXXXXXXXX|4015 Tawny Rise C...|             Caguas|            PR|             725|\n|       8882|       Kenneth|         Smith|     XXXXXXXXX|        XXXXXXXXX| 6754 Iron Leaf Line|            Hickory|            NC|           28601|\n+-----------+--------------+--------------+--------------+-----------------+--------------------+-------------------+--------------+----------------+\nonly showing top 20 rows\n\n",
          "name": "stdout"
        }
      ]
    },
    {
      "metadata": {},
      "cell_type": "markdown",
      "source": "#### crossJoin"
    },
    {
      "metadata": {
        "trusted": true
      },
      "cell_type": "code",
      "source": "orders.crossJoin(customers.filter(customers.customer_id == 1)).show()",
      "execution_count": 37,
      "outputs": [
        {
          "output_type": "stream",
          "text": "+--------+-------------------+-----------------+---------------+-----------+--------------+--------------+--------------+-----------------+------------------+-------------+--------------+----------------+\n|order_id|         order_date|order_customer_id|   order_status|customer_id|customer_fname|customer_lname|customer_email|customer_password|   customer_street|customer_city|customer_state|customer_zipcode|\n+--------+-------------------+-----------------+---------------+-----------+--------------+--------------+--------------+-----------------+------------------+-------------+--------------+----------------+\n|       1|2013-07-25 00:00:00|            11599|         CLOSED|          1|       Richard|     Hernandez|     XXXXXXXXX|        XXXXXXXXX|6303 Heather Plaza|  Brownsville|            TX|           78521|\n|       2|2013-07-25 00:00:00|              256|PENDING_PAYMENT|          1|       Richard|     Hernandez|     XXXXXXXXX|        XXXXXXXXX|6303 Heather Plaza|  Brownsville|            TX|           78521|\n|       3|2013-07-25 00:00:00|            12111|       COMPLETE|          1|       Richard|     Hernandez|     XXXXXXXXX|        XXXXXXXXX|6303 Heather Plaza|  Brownsville|            TX|           78521|\n|       4|2013-07-25 00:00:00|             8827|         CLOSED|          1|       Richard|     Hernandez|     XXXXXXXXX|        XXXXXXXXX|6303 Heather Plaza|  Brownsville|            TX|           78521|\n|       5|2013-07-25 00:00:00|            11318|       COMPLETE|          1|       Richard|     Hernandez|     XXXXXXXXX|        XXXXXXXXX|6303 Heather Plaza|  Brownsville|            TX|           78521|\n|       6|2013-07-25 00:00:00|             7130|       COMPLETE|          1|       Richard|     Hernandez|     XXXXXXXXX|        XXXXXXXXX|6303 Heather Plaza|  Brownsville|            TX|           78521|\n|       7|2013-07-25 00:00:00|             4530|       COMPLETE|          1|       Richard|     Hernandez|     XXXXXXXXX|        XXXXXXXXX|6303 Heather Plaza|  Brownsville|            TX|           78521|\n|       8|2013-07-25 00:00:00|             2911|     PROCESSING|          1|       Richard|     Hernandez|     XXXXXXXXX|        XXXXXXXXX|6303 Heather Plaza|  Brownsville|            TX|           78521|\n|       9|2013-07-25 00:00:00|             5657|PENDING_PAYMENT|          1|       Richard|     Hernandez|     XXXXXXXXX|        XXXXXXXXX|6303 Heather Plaza|  Brownsville|            TX|           78521|\n|      10|2013-07-25 00:00:00|             5648|PENDING_PAYMENT|          1|       Richard|     Hernandez|     XXXXXXXXX|        XXXXXXXXX|6303 Heather Plaza|  Brownsville|            TX|           78521|\n|      11|2013-07-25 00:00:00|              918| PAYMENT_REVIEW|          1|       Richard|     Hernandez|     XXXXXXXXX|        XXXXXXXXX|6303 Heather Plaza|  Brownsville|            TX|           78521|\n|      12|2013-07-25 00:00:00|             1837|         CLOSED|          1|       Richard|     Hernandez|     XXXXXXXXX|        XXXXXXXXX|6303 Heather Plaza|  Brownsville|            TX|           78521|\n|      13|2013-07-25 00:00:00|             9149|PENDING_PAYMENT|          1|       Richard|     Hernandez|     XXXXXXXXX|        XXXXXXXXX|6303 Heather Plaza|  Brownsville|            TX|           78521|\n|      14|2013-07-25 00:00:00|             9842|     PROCESSING|          1|       Richard|     Hernandez|     XXXXXXXXX|        XXXXXXXXX|6303 Heather Plaza|  Brownsville|            TX|           78521|\n|      15|2013-07-25 00:00:00|             2568|       COMPLETE|          1|       Richard|     Hernandez|     XXXXXXXXX|        XXXXXXXXX|6303 Heather Plaza|  Brownsville|            TX|           78521|\n|      16|2013-07-25 00:00:00|             7276|PENDING_PAYMENT|          1|       Richard|     Hernandez|     XXXXXXXXX|        XXXXXXXXX|6303 Heather Plaza|  Brownsville|            TX|           78521|\n|      17|2013-07-25 00:00:00|             2667|       COMPLETE|          1|       Richard|     Hernandez|     XXXXXXXXX|        XXXXXXXXX|6303 Heather Plaza|  Brownsville|            TX|           78521|\n|      18|2013-07-25 00:00:00|             1205|         CLOSED|          1|       Richard|     Hernandez|     XXXXXXXXX|        XXXXXXXXX|6303 Heather Plaza|  Brownsville|            TX|           78521|\n|      19|2013-07-25 00:00:00|             9488|PENDING_PAYMENT|          1|       Richard|     Hernandez|     XXXXXXXXX|        XXXXXXXXX|6303 Heather Plaza|  Brownsville|            TX|           78521|\n|      20|2013-07-25 00:00:00|             9198|     PROCESSING|          1|       Richard|     Hernandez|     XXXXXXXXX|        XXXXXXXXX|6303 Heather Plaza|  Brownsville|            TX|           78521|\n+--------+-------------------+-----------------+---------------+-----------+--------------+--------------+--------------+-----------------+------------------+-------------+--------------+----------------+\nonly showing top 20 rows\n\n",
          "name": "stdout"
        }
      ]
    },
    {
      "metadata": {},
      "cell_type": "markdown",
      "source": "# distinct\n#### distinct will come at the end after the select"
    },
    {
      "metadata": {
        "trusted": true
      },
      "cell_type": "code",
      "source": "orders.select('order_status').distinct().show()",
      "execution_count": 38,
      "outputs": [
        {
          "output_type": "stream",
          "text": "+---------------+\n|   order_status|\n+---------------+\n|PENDING_PAYMENT|\n|       COMPLETE|\n|        ON_HOLD|\n| PAYMENT_REVIEW|\n|     PROCESSING|\n|         CLOSED|\n|SUSPECTED_FRAUD|\n|        PENDING|\n|       CANCELED|\n+---------------+\n\n",
          "name": "stdout"
        }
      ]
    },
    {
      "metadata": {},
      "cell_type": "markdown",
      "source": "# countDinstinct\n#### countDistinct will be handy "
    },
    {
      "metadata": {
        "trusted": true
      },
      "cell_type": "code",
      "source": "orders.select(countDistinct('order_status')).show()",
      "execution_count": 40,
      "outputs": [
        {
          "output_type": "stream",
          "text": "+----------------------------+\n|count(DISTINCT order_status)|\n+----------------------------+\n|                           9|\n+----------------------------+\n\n",
          "name": "stdout"
        }
      ]
    },
    {
      "metadata": {},
      "cell_type": "markdown",
      "source": "# orderBy/sort\n#### Note: sort is just an alias to orderBy"
    },
    {
      "metadata": {
        "trusted": true
      },
      "cell_type": "code",
      "source": "orders.orderBy(orders.order_date, orders.order_status.desc()).show()",
      "execution_count": 43,
      "outputs": [
        {
          "output_type": "stream",
          "text": "+--------+-------------------+-----------------+---------------+\n|order_id|         order_date|order_customer_id|   order_status|\n+--------+-------------------+-----------------+---------------+\n|      69|2013-07-25 00:00:00|             2821|SUSPECTED_FRAUD|\n|   57770|2013-07-25 00:00:00|             7451|SUSPECTED_FRAUD|\n|      20|2013-07-25 00:00:00|             9198|     PROCESSING|\n|       8|2013-07-25 00:00:00|             2911|     PROCESSING|\n|      84|2013-07-25 00:00:00|             6789|     PROCESSING|\n|      34|2013-07-25 00:00:00|             4189|     PROCESSING|\n|   57765|2013-07-25 00:00:00|             2876|     PROCESSING|\n|      38|2013-07-25 00:00:00|            11586|     PROCESSING|\n|      29|2013-07-25 00:00:00|              196|     PROCESSING|\n|      81|2013-07-25 00:00:00|              674|     PROCESSING|\n|      94|2013-07-25 00:00:00|            11589|     PROCESSING|\n|     100|2013-07-25 00:00:00|            12131|     PROCESSING|\n|     103|2013-07-25 00:00:00|            12256|     PROCESSING|\n|   57783|2013-07-25 00:00:00|             2884|     PROCESSING|\n|   57785|2013-07-25 00:00:00|            12347|     PROCESSING|\n|      48|2013-07-25 00:00:00|            12186|     PROCESSING|\n|      53|2013-07-25 00:00:00|             4701|     PROCESSING|\n|      14|2013-07-25 00:00:00|             9842|     PROCESSING|\n|      58|2013-07-25 00:00:00|             9213|PENDING_PAYMENT|\n|      59|2013-07-25 00:00:00|            11644|PENDING_PAYMENT|\n+--------+-------------------+-----------------+---------------+\nonly showing top 20 rows\n\n",
          "name": "stdout"
        }
      ]
    },
    {
      "metadata": {},
      "cell_type": "markdown",
      "source": "Note: Only absolute column name notation or col() works while mentioning in descending order desc()"
    },
    {
      "metadata": {
        "trusted": true
      },
      "cell_type": "code",
      "source": "orders.orderBy('order_date',col('order_status').desc()).show()",
      "execution_count": 44,
      "outputs": [
        {
          "output_type": "stream",
          "text": "+--------+-------------------+-----------------+---------------+\n|order_id|         order_date|order_customer_id|   order_status|\n+--------+-------------------+-----------------+---------------+\n|      69|2013-07-25 00:00:00|             2821|SUSPECTED_FRAUD|\n|   57770|2013-07-25 00:00:00|             7451|SUSPECTED_FRAUD|\n|      20|2013-07-25 00:00:00|             9198|     PROCESSING|\n|       8|2013-07-25 00:00:00|             2911|     PROCESSING|\n|      84|2013-07-25 00:00:00|             6789|     PROCESSING|\n|      34|2013-07-25 00:00:00|             4189|     PROCESSING|\n|   57765|2013-07-25 00:00:00|             2876|     PROCESSING|\n|      38|2013-07-25 00:00:00|            11586|     PROCESSING|\n|      29|2013-07-25 00:00:00|              196|     PROCESSING|\n|      81|2013-07-25 00:00:00|              674|     PROCESSING|\n|      94|2013-07-25 00:00:00|            11589|     PROCESSING|\n|     100|2013-07-25 00:00:00|            12131|     PROCESSING|\n|     103|2013-07-25 00:00:00|            12256|     PROCESSING|\n|   57783|2013-07-25 00:00:00|             2884|     PROCESSING|\n|   57785|2013-07-25 00:00:00|            12347|     PROCESSING|\n|      48|2013-07-25 00:00:00|            12186|     PROCESSING|\n|      53|2013-07-25 00:00:00|             4701|     PROCESSING|\n|      14|2013-07-25 00:00:00|             9842|     PROCESSING|\n|      58|2013-07-25 00:00:00|             9213|PENDING_PAYMENT|\n|      59|2013-07-25 00:00:00|            11644|PENDING_PAYMENT|\n+--------+-------------------+-----------------+---------------+\nonly showing top 20 rows\n\n",
          "name": "stdout"
        }
      ]
    },
    {
      "metadata": {},
      "cell_type": "markdown",
      "source": "# drop"
    },
    {
      "metadata": {},
      "cell_type": "markdown",
      "source": "drop() will only take just the column names and it will not take any other expressions for the column"
    },
    {
      "metadata": {
        "trusted": true
      },
      "cell_type": "code",
      "source": "order_items.join(products,order_items.order_item_product_id==products.product_id).drop('product_price','product_description','product_image').show()",
      "execution_count": 50,
      "outputs": [
        {
          "output_type": "stream",
          "text": "+-------------+-------------------+---------------------+-------------------+-------------------+------------------------+----------+-------------------+--------------------+\n|order_item_id|order_item_order_id|order_item_product_id|order_item_quantity|order_item_subtotal|order_item_product_price|product_id|product_category_id|        product_name|\n+-------------+-------------------+---------------------+-------------------+-------------------+------------------------+----------+-------------------+--------------------+\n|            1|                  1|                  957|                  1|             299.98|                  299.98|       957|                 43|Diamondback Women...|\n|            2|                  2|                 1073|                  1|             199.99|                  199.99|      1073|                 48|Pelican Sunstream...|\n|            3|                  2|                  502|                  5|              250.0|                    50.0|       502|                 24|Nike Men's Dri-FI...|\n|            4|                  2|                  403|                  1|             129.99|                  129.99|       403|                 18|Nike Men's CJ Eli...|\n|            5|                  4|                  897|                  2|              49.98|                   24.99|       897|                 40|Team Golf New Eng...|\n|            6|                  4|                  365|                  5|             299.95|                   59.99|       365|                 17|Perfect Fitness P...|\n|            7|                  4|                  502|                  3|              150.0|                    50.0|       502|                 24|Nike Men's Dri-FI...|\n|            8|                  4|                 1014|                  4|             199.92|                   49.98|      1014|                 46|O'Brien Men's Neo...|\n|            9|                  5|                  957|                  1|             299.98|                  299.98|       957|                 43|Diamondback Women...|\n|           10|                  5|                  365|                  5|             299.95|                   59.99|       365|                 17|Perfect Fitness P...|\n|           11|                  5|                 1014|                  2|              99.96|                   49.98|      1014|                 46|O'Brien Men's Neo...|\n|           12|                  5|                  957|                  1|             299.98|                  299.98|       957|                 43|Diamondback Women...|\n|           13|                  5|                  403|                  1|             129.99|                  129.99|       403|                 18|Nike Men's CJ Eli...|\n|           14|                  7|                 1073|                  1|             199.99|                  199.99|      1073|                 48|Pelican Sunstream...|\n|           15|                  7|                  957|                  1|             299.98|                  299.98|       957|                 43|Diamondback Women...|\n|           16|                  7|                  926|                  5|              79.95|                   15.99|       926|                 41|Glove It Imperial...|\n|           17|                  8|                  365|                  3|             179.97|                   59.99|       365|                 17|Perfect Fitness P...|\n|           18|                  8|                  365|                  5|             299.95|                   59.99|       365|                 17|Perfect Fitness P...|\n|           19|                  8|                 1014|                  4|             199.92|                   49.98|      1014|                 46|O'Brien Men's Neo...|\n|           20|                  8|                  502|                  1|               50.0|                    50.0|       502|                 24|Nike Men's Dri-FI...|\n+-------------+-------------------+---------------------+-------------------+-------------------+------------------------+----------+-------------------+--------------------+\nonly showing top 20 rows\n\n",
          "name": "stdout"
        }
      ]
    },
    {
      "metadata": {
        "trusted": true
      },
      "cell_type": "code",
      "source": "#order_items.join(products, order_item_product_id==products.product_id).drop(products.product_price, products.product_description, products.product_image).show()\n# Specifying full name of the column will not work ",
      "execution_count": 52,
      "outputs": []
    }
  ],
  "metadata": {
    "kernelspec": {
      "name": "python36",
      "display_name": "Python 3.6",
      "language": "python"
    },
    "language_info": {
      "mimetype": "text/x-python",
      "nbconvert_exporter": "python",
      "name": "python",
      "pygments_lexer": "ipython3",
      "version": "3.6.6",
      "file_extension": ".py",
      "codemirror_mode": {
        "version": 3,
        "name": "ipython"
      }
    }
  },
  "nbformat": 4,
  "nbformat_minor": 2
}