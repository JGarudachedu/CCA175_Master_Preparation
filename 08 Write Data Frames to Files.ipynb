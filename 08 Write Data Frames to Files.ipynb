{
 "cells": [
  {
   "cell_type": "code",
   "execution_count": 4,
   "metadata": {},
   "outputs": [],
   "source": [
    "from pyspark.sql import SparkSession\n",
    "from pyspark.sql.functions import *\n",
    "spark = SparkSession.builder.master('local').appName('saveAsTableDataFrames').enableHiveSupport().getOrCreate()"
   ]
  },
  {
   "cell_type": "code",
   "execution_count": 2,
   "metadata": {},
   "outputs": [],
   "source": [
    "orders = spark.read.csv('retail_db//orders.csv',header=True,inferSchema=True)\n",
    "order_items = spark.read.csv('retail_db//order_items.csv',header=True,inferSchema=True)\n",
    "customers = spark.read.csv('retail_db//customers.csv',header=True,inferSchema=True)\n",
    "products = spark.read.csv('retail_db//products.csv',header=True,inferSchema=True)"
   ]
  },
  {
   "cell_type": "code",
   "execution_count": null,
   "metadata": {},
   "outputs": [],
   "source": [
    "spark.sql('show databases').show()"
   ]
  },
  {
   "cell_type": "code",
   "execution_count": null,
   "metadata": {},
   "outputs": [],
   "source": [
    "spark.sql('create databases newdb if not exists').show()"
   ]
  },
  {
   "cell_type": "markdown",
   "metadata": {},
   "source": [
    "## Text"
   ]
  },
  {
   "cell_type": "markdown",
   "metadata": {},
   "source": [
    "### Be very careful while writing text. Give alias name before saving."
   ]
  },
  {
   "cell_type": "code",
   "execution_count": null,
   "metadata": {},
   "outputs": [],
   "source": [
    "ordersText = orders.select(concat_ws('~','order_id','order_date','order_status').alias('orders'))\n",
    "ordersText.write.format('text').option('compression','none').option('mode','overwrite').saveAsTable('newdb.orders_text_none')"
   ]
  },
  {
   "cell_type": "markdown",
   "metadata": {},
   "source": [
    "## csv"
   ]
  },
  {
   "cell_type": "code",
   "execution_count": null,
   "metadata": {},
   "outputs": [],
   "source": [
    "orders.coalesce(1).write.format('csv').option('mode','append').option('compression','none').\n",
    "saveAsTable('newdb.orders_csv_none')\n"
   ]
  },
  {
   "cell_type": "markdown",
   "metadata": {},
   "source": [
    "## JSON"
   ]
  },
  {
   "cell_type": "code",
   "execution_count": null,
   "metadata": {},
   "outputs": [],
   "source": [
    "orders.repartition(20).write.format('json').option('mode','append').option('compression','none').\n",
    "saveAsTable('newdb.orders_json_none')"
   ]
  },
  {
   "cell_type": "markdown",
   "metadata": {},
   "source": [
    "## ORC"
   ]
  },
  {
   "cell_type": "code",
   "execution_count": null,
   "metadata": {},
   "outputs": [],
   "source": [
    "orders.write.format('orc'). \\\n",
    "option('mode','append'). \\\n",
    "option('compression','none'). \\\n",
    "saveAsTable('newdb.orders_orc_none')\n"
   ]
  },
  {
   "cell_type": "markdown",
   "metadata": {},
   "source": [
    "## parquet"
   ]
  },
  {
   "cell_type": "code",
   "execution_count": null,
   "metadata": {},
   "outputs": [],
   "source": [
    "orders.write.format('parquet').option('mode','append').option('compression','gzip').\n",
    "saveAsTable('newdb.orders_parquet_gz')"
   ]
  },
  {
   "cell_type": "markdown",
   "metadata": {},
   "source": [
    "## avro"
   ]
  },
  {
   "cell_type": "code",
   "execution_count": null,
   "metadata": {},
   "outputs": [],
   "source": [
    "orders.write.format('com.databricks.spark.avro'). \\\n",
    "option('mode','overwrite'). \\\n",
    "option('compression','snappy'). \\\n",
    "saveAsTable('newdb.orders_avro_part')"
   ]
  }
 ],
 "metadata": {
  "kernelspec": {
   "display_name": "Python 3",
   "language": "python",
   "name": "python3"
  },
  "language_info": {
   "codemirror_mode": {
    "name": "ipython",
    "version": 3
   },
   "file_extension": ".py",
   "mimetype": "text/x-python",
   "name": "python",
   "nbconvert_exporter": "python",
   "pygments_lexer": "ipython3",
   "version": "3.7.4"
  }
 },
 "nbformat": 4,
 "nbformat_minor": 4
}
