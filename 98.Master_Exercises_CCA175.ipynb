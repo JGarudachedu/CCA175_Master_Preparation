{
  "cells": [
    {
      "metadata": {
        "trusted": true
      },
      "cell_type": "code",
      "source": "from pyspark.sql import SparkSession\nfrom pyspark.sql.functions import *\nfrom pyspark.sql.types import *\nfrom pyspark.sql.window import Window\nspark = SparkSession.builder.master('local').appName('aggDataFrames').enableHiveSupport().getOrCreate()\nsc=spark.sparkContext",
      "execution_count": 5,
      "outputs": []
    },
    {
      "metadata": {
        "trusted": true
      },
      "cell_type": "code",
      "source": "orders = spark.read.csv('data//retail_db//orders.csv',header=True,inferSchema=True)\norder_items = spark.read.csv('data//retail_db//order_items.csv',header=True,inferSchema=True)\ncustomers = spark.read.csv('data//retail_db//customers.csv',header=True,inferSchema=True)\nproducts = spark.read.csv('data//retail_db//products.csv',header=True,inferSchema=True)\ncategories = spark.read.csv('data//retail_db//categories.csv',header=True,inferSchema=True)\ndepartments = spark.read.csv('data//retail_db//departments.csv',header=True,inferSchema=True)",
      "execution_count": 6,
      "outputs": []
    },
    {
      "metadata": {},
      "cell_type": "markdown",
      "source": "# 1. Top N orders for the day based on order revenue"
    },
    {
      "metadata": {
        "trusted": true
      },
      "cell_type": "code",
      "source": "p11=orders.join(order_items, orders.order_id == order_items.order_item_order_id).groupBy(orders.order_date,orders.order_id). \\\n    agg(round(sum(order_items.order_item_subtotal),2).alias('order_revenue'))",
      "execution_count": 7,
      "outputs": []
    },
    {
      "metadata": {
        "trusted": true
      },
      "cell_type": "code",
      "source": "p12=p11.withColumn('rnk',rank().over(Window.partitionBy(orders.order_date).orderBy(col('order_revenue').desc())))",
      "execution_count": 8,
      "outputs": []
    },
    {
      "metadata": {
        "trusted": true
      },
      "cell_type": "code",
      "source": "p1=p12.filter(col('rnk') <= 5).drop('rnk').orderBy('order_date',col('order_revenue').desc())",
      "execution_count": 9,
      "outputs": []
    },
    {
      "metadata": {
        "trusted": true
      },
      "cell_type": "code",
      "source": "p1.show()",
      "execution_count": 10,
      "outputs": [
        {
          "output_type": "stream",
          "text": "+-------------------+--------+-------------+\n|         order_date|order_id|order_revenue|\n+-------------------+--------+-------------+\n|2013-07-25 00:00:00|   57779|       1649.8|\n|2013-07-25 00:00:00|      84|      1499.87|\n|2013-07-25 00:00:00|      12|      1299.87|\n|2013-07-25 00:00:00|      73|      1279.65|\n|2013-07-25 00:00:00|      28|       1159.9|\n|2013-07-26 00:00:00|     164|      1369.81|\n|2013-07-26 00:00:00|     284|      1349.83|\n|2013-07-26 00:00:00|     165|      1333.84|\n|2013-07-26 00:00:00|     188|      1299.91|\n|2013-07-26 00:00:00|     292|      1299.86|\n|2013-07-27 00:00:00|     417|      1379.88|\n|2013-07-27 00:00:00|   57812|      1259.93|\n|2013-07-27 00:00:00|     399|      1259.87|\n|2013-07-27 00:00:00|     477|      1249.91|\n|2013-07-27 00:00:00|     442|      1229.91|\n|2013-07-28 00:00:00|     614|      1499.87|\n|2013-07-28 00:00:00|   57850|      1259.94|\n|2013-07-28 00:00:00|     517|      1209.91|\n|2013-07-28 00:00:00|   57861|      1209.77|\n|2013-07-28 00:00:00|     631|      1199.91|\n+-------------------+--------+-------------+\nonly showing top 20 rows\n\n",
          "name": "stdout"
        }
      ]
    },
    {
      "metadata": {},
      "cell_type": "markdown",
      "source": "### SQL"
    },
    {
      "metadata": {
        "trusted": true
      },
      "cell_type": "code",
      "source": "spark.sql(\" SELECT order_date, order_id, order_revenue FROM \\\n(SELECT o.order_date, o.order_id, round(sum(oi.order_item_subtotal),2) order_revenue, \\\nRANK() OVER (PARTITION BY o.order_date ORDER BY round(sum(oi.order_item_subtotal),2) DESC) rnk  \\\nFROM orders o, order_items oi WHERE o.order_id = oi.order_item_order_id GROUP BY  o.order_date, o.order_id ) main WHERE rnk<= 5 ORDER BY 1, 3 DESC\").show()\n",
      "execution_count": null,
      "outputs": []
    },
    {
      "metadata": {},
      "cell_type": "markdown",
      "source": "# 2. Get average revenue per day and all the orders which are more than average."
    },
    {
      "metadata": {
        "trusted": true
      },
      "cell_type": "code",
      "source": "p21=orders.join(order_items, orders.order_id == order_items.order_item_order_id).groupBy('order_date','order_id').\\\nagg(round(sum('order_item_subtotal'),2).alias('order_revenue'))",
      "execution_count": 12,
      "outputs": []
    },
    {
      "metadata": {
        "trusted": true
      },
      "cell_type": "code",
      "source": "p22=p21.withColumn('avg_revenue',avg('order_revenue').over(Window.partitionBy('order_date')))",
      "execution_count": 13,
      "outputs": []
    },
    {
      "metadata": {
        "trusted": true
      },
      "cell_type": "code",
      "source": "p2=p22.filter('order_revenue >= avg_revenue').orderBy('order_date',col('order_revenue').desc())",
      "execution_count": 14,
      "outputs": []
    },
    {
      "metadata": {
        "trusted": true
      },
      "cell_type": "code",
      "source": "p2.show()",
      "execution_count": 15,
      "outputs": [
        {
          "output_type": "stream",
          "text": "+-------------------+--------+-------------+-----------------+\n|         order_date|order_id|order_revenue|      avg_revenue|\n+-------------------+--------+-------------+-----------------+\n|2013-07-25 00:00:00|   57779|       1649.8|587.5330172413794|\n|2013-07-25 00:00:00|      84|      1499.87|587.5330172413794|\n|2013-07-25 00:00:00|      12|      1299.87|587.5330172413794|\n|2013-07-25 00:00:00|      73|      1279.65|587.5330172413794|\n|2013-07-25 00:00:00|      28|       1159.9|587.5330172413794|\n|2013-07-25 00:00:00|      62|      1149.94|587.5330172413794|\n|2013-07-25 00:00:00|   57764|      1149.92|587.5330172413794|\n|2013-07-25 00:00:00|       5|      1129.86|587.5330172413794|\n|2013-07-25 00:00:00|   57788|      1119.86|587.5330172413794|\n|2013-07-25 00:00:00|      29|      1109.85|587.5330172413794|\n|2013-07-25 00:00:00|      99|      1099.93|587.5330172413794|\n|2013-07-25 00:00:00|   57757|      1099.87|587.5330172413794|\n|2013-07-25 00:00:00|   57782|      1049.85|587.5330172413794|\n|2013-07-25 00:00:00|   57763|       1029.9|587.5330172413794|\n|2013-07-25 00:00:00|   57765|        966.9|587.5330172413794|\n|2013-07-25 00:00:00|      15|       925.91|587.5330172413794|\n|2013-07-25 00:00:00|      11|       919.79|587.5330172413794|\n|2013-07-25 00:00:00|   57759|       909.97|587.5330172413794|\n|2013-07-25 00:00:00|     101|       899.94|587.5330172413794|\n|2013-07-25 00:00:00|      63|       899.92|587.5330172413794|\n+-------------------+--------+-------------+-----------------+\nonly showing top 20 rows\n\n",
          "name": "stdout"
        }
      ]
    },
    {
      "metadata": {},
      "cell_type": "markdown",
      "source": "### SQL"
    },
    {
      "metadata": {
        "trusted": true
      },
      "cell_type": "code",
      "source": "spark.sql(\" \\\nSELECT order_date, order_id, order_revenue, avg_revenue FROM \\\n(SELECT o.order_date, o.order_id, sum(oi.order_item_subtotal) order_revenue, \\\nAVG(sum(oi.order_item_subtotal)) OVER (PARTITION BY o.order_date ) avg_revenue  \\\nFROM orders o, order_items oi WHERE o.order_id = oi.order_item_order_id GROUP BY  o.order_date, o.order_id) \\\nWHERE order_revenue >= avg_revenue ORDER BY 1, 3 DESC\").show()",
      "execution_count": null,
      "outputs": []
    },
    {
      "metadata": {},
      "cell_type": "markdown",
      "source": "# 3. Top N products for the day"
    },
    {
      "metadata": {
        "trusted": true
      },
      "cell_type": "code",
      "source": "p31=orders.join(order_items, orders.order_id == order_items.order_item_order_id).join(products, order_items.order_item_product_id == products.product_id).groupBy('order_date','product_name')",
      "execution_count": 16,
      "outputs": []
    },
    {
      "metadata": {
        "trusted": true
      },
      "cell_type": "code",
      "source": "p32=p31.agg(round(sum('order_item_subtotal'),2).alias('product_revenue')).withColumn('rnk',rank().over(Window.partitionBy('order_date').orderBy(col('product_revenue').desc())))",
      "execution_count": 17,
      "outputs": []
    },
    {
      "metadata": {
        "trusted": true
      },
      "cell_type": "code",
      "source": "p33=p32.filter(col('rnk') <=5).orderBy('order_date',col('product_revenue').desc())",
      "execution_count": 18,
      "outputs": []
    },
    {
      "metadata": {
        "trusted": true
      },
      "cell_type": "code",
      "source": "p3=p33",
      "execution_count": 19,
      "outputs": []
    },
    {
      "metadata": {
        "trusted": true
      },
      "cell_type": "code",
      "source": "p3.show()",
      "execution_count": 20,
      "outputs": [
        {
          "output_type": "stream",
          "text": "+-------------------+--------------------+---------------+---+\n|         order_date|        product_name|product_revenue|rnk|\n+-------------------+--------------------+---------------+---+\n|2013-07-25 00:00:00|Field & Stream Sp...|       10799.46|  1|\n|2013-07-25 00:00:00|Diamondback Women...|        9599.36|  2|\n|2013-07-25 00:00:00|Nike Men's Free 5...|        8499.15|  3|\n|2013-07-25 00:00:00|Perfect Fitness P...|        7558.74|  4|\n|2013-07-25 00:00:00|Pelican Sunstream...|        6999.65|  5|\n|2013-07-26 00:00:00|Field & Stream Sp...|       28798.56|  1|\n|2013-07-26 00:00:00|Perfect Fitness P...|        20996.5|  2|\n|2013-07-26 00:00:00|Diamondback Women...|       16798.88|  3|\n|2013-07-26 00:00:00|Nike Men's Free 5...|        14998.5|  4|\n|2013-07-26 00:00:00|Pelican Sunstream...|       10799.46|  5|\n|2013-07-27 00:00:00|Field & Stream Sp...|        21998.9|  1|\n|2013-07-27 00:00:00|Diamondback Women...|       14399.04|  2|\n|2013-07-27 00:00:00|Nike Men's Free 5...|       10698.93|  3|\n|2013-07-27 00:00:00|Pelican Sunstream...|       10399.48|  4|\n|2013-07-27 00:00:00|Perfect Fitness P...|       10078.32|  5|\n|2013-07-28 00:00:00|Field & Stream Sp...|        17999.1|  1|\n|2013-07-28 00:00:00|Perfect Fitness P...|       15177.47|  2|\n|2013-07-28 00:00:00|Diamondback Women...|       10199.32|  3|\n|2013-07-28 00:00:00|Nike Men's CJ Eli...|        9359.28|  4|\n|2013-07-28 00:00:00|Nike Men's Dri-FI...|         8200.0|  5|\n+-------------------+--------------------+---------------+---+\nonly showing top 20 rows\n\n",
          "name": "stdout"
        }
      ]
    },
    {
      "metadata": {},
      "cell_type": "markdown",
      "source": "### SQL"
    },
    {
      "metadata": {
        "trusted": true
      },
      "cell_type": "code",
      "source": "spark.sql('SELECT * FROM \\\n( SELECT o.order_date, p.product_name, round(sum(oi.order_item_subtotal),2) product_revenue, \\\nRANK() OVER(PARTITION BY o.order_date ORDER BY round(sum(oi.order_item_subtotal),2) DESC) rnk \\\nfrom orders o, order_items oi, products p WHERE o.order_id = oi.order_item_order_id AND oi.order_item_product_id = p.product_id \\\nGROUP BY o.order_date, p.product_name ) WHERE rnk <=5 ORDER BY 1,3 DESC').show()\n",
      "execution_count": null,
      "outputs": []
    },
    {
      "metadata": {},
      "cell_type": "markdown",
      "source": "# 4. Percentage of order items in Order revenue\n"
    },
    {
      "metadata": {
        "trusted": true
      },
      "cell_type": "code",
      "source": "p41=order_items.withColumn('order_revenue',sum('order_item_subtotal').over(Window.partitionBy('order_item_order_id'))).\\\nwithColumn('pcnt', round(col('order_item_subtotal')/col('order_revenue'),2))",
      "execution_count": 21,
      "outputs": []
    },
    {
      "metadata": {
        "trusted": true
      },
      "cell_type": "code",
      "source": "p42=p41.select('order_item_order_id','order_item_id','order_item_subtotal','order_revenue','pcnt').orderBy(col('order_item_order_id'))",
      "execution_count": 22,
      "outputs": []
    },
    {
      "metadata": {
        "trusted": true
      },
      "cell_type": "code",
      "source": "p4=p42",
      "execution_count": 23,
      "outputs": []
    },
    {
      "metadata": {
        "trusted": true
      },
      "cell_type": "code",
      "source": "p4.show()",
      "execution_count": 24,
      "outputs": [
        {
          "output_type": "stream",
          "text": "+-------------------+-------------+-------------------+------------------+----+\n|order_item_order_id|order_item_id|order_item_subtotal|     order_revenue|pcnt|\n+-------------------+-------------+-------------------+------------------+----+\n|                  1|            1|             299.98|            299.98| 1.0|\n|                  2|            3|              250.0|            579.98|0.43|\n|                  2|            4|             129.99|            579.98|0.22|\n|                  2|            2|             199.99|            579.98|0.34|\n|                  4|            8|             199.92|            699.85|0.29|\n|                  4|            7|              150.0|            699.85|0.21|\n|                  4|            6|             299.95|            699.85|0.43|\n|                  4|            5|              49.98|            699.85|0.07|\n|                  5|           10|             299.95|1129.8600000000001|0.27|\n|                  5|           12|             299.98|1129.8600000000001|0.27|\n|                  5|            9|             299.98|1129.8600000000001|0.27|\n|                  5|           13|             129.99|1129.8600000000001|0.12|\n|                  5|           11|              99.96|1129.8600000000001|0.09|\n|                  7|           15|             299.98| 579.9200000000001|0.52|\n|                  7|           16|              79.95| 579.9200000000001|0.14|\n|                  7|           14|             199.99| 579.9200000000001|0.34|\n|                  8|           17|             179.97| 729.8399999999999|0.25|\n|                  8|           18|             299.95| 729.8399999999999|0.41|\n|                  8|           19|             199.92| 729.8399999999999|0.27|\n|                  8|           20|               50.0| 729.8399999999999|0.07|\n+-------------------+-------------+-------------------+------------------+----+\nonly showing top 20 rows\n\n",
          "name": "stdout"
        }
      ]
    },
    {
      "metadata": {},
      "cell_type": "markdown",
      "source": "### SQL"
    },
    {
      "metadata": {
        "trusted": true
      },
      "cell_type": "code",
      "source": "spark.sql(\"SELECT order_item_order_id, order_item_id, order_item_subtotal, \\\nround(SUM(order_item_subtotal) OVER(PARTITION BY order_item_order_id),2) order_revenue , \\\n(round(order_item_subtotal /SUM(order_item_subtotal) OVER(PARTITION BY order_item_order_id),2)) pcnt FROM order_items ORDER BY 1 \").show()\n",
      "execution_count": null,
      "outputs": []
    },
    {
      "metadata": {},
      "cell_type": "markdown",
      "source": "\n# 5. Difference in top 2 order items for the order revenue"
    },
    {
      "metadata": {
        "trusted": true
      },
      "cell_type": "code",
      "source": "p51= order_items.withColumn('rnk',rank().over(Window.partitionBy('order_item_order_id').orderBy(col('order_item_subtotal').desc()))).withColumn('next',lead('order_item_subtotal').over(Window.partitionBy('order_item_order_id').orderBy(col('order_item_subtotal').desc())))",
      "execution_count": 25,
      "outputs": []
    },
    {
      "metadata": {
        "trusted": true
      },
      "cell_type": "code",
      "source": "p52=p51.select('order_item_order_id','order_item_id','order_item_subtotal','next','rnk')",
      "execution_count": 26,
      "outputs": []
    },
    {
      "metadata": {
        "trusted": true
      },
      "cell_type": "code",
      "source": "p53=p52.orderBy('order_item_order_id','rnk').filter(col('rnk')==1).fillna(0).withColumn('diff',round(col('order_item_subtotal').cast('double')-col('next').cast('double'),2)).drop('rnk')",
      "execution_count": 27,
      "outputs": []
    },
    {
      "metadata": {
        "trusted": true
      },
      "cell_type": "code",
      "source": "p5=p53",
      "execution_count": 28,
      "outputs": []
    },
    {
      "metadata": {
        "trusted": true
      },
      "cell_type": "code",
      "source": "p5.show()",
      "execution_count": 29,
      "outputs": [
        {
          "output_type": "stream",
          "text": "+-------------------+-------------+-------------------+------+------+\n|order_item_order_id|order_item_id|order_item_subtotal|  next|  diff|\n+-------------------+-------------+-------------------+------+------+\n|                  1|            1|             299.98|   0.0|299.98|\n|                  2|            3|              250.0|199.99| 50.01|\n|                  4|            6|             299.95|199.92|100.03|\n|                  5|           12|             299.98|299.95|  0.03|\n|                  5|            9|             299.98|299.98|   0.0|\n|                  7|           15|             299.98|199.99| 99.99|\n|                  8|           18|             299.95|199.92|100.03|\n|                  9|           23|             199.99|199.98|  0.01|\n|                  9|           22|             199.99|199.99|   0.0|\n|                 10|           24|             199.99|199.99|   0.0|\n|                 10|           28|             199.99|129.99|  70.0|\n|                 11|           32|             399.96| 249.9|150.06|\n|                 12|           37|             499.95|299.98|199.97|\n|                 13|           39|             127.96|   0.0|127.96|\n|                 14|           40|             399.98| 99.96|300.02|\n|                 15|           47|             399.98|199.99|199.99|\n|                 16|           49|             299.95|119.98|179.97|\n|                 17|           54|             239.96|199.99| 39.97|\n|                 18|           55|             199.99|129.99|  70.0|\n|                 19|           58|             399.98|299.98| 100.0|\n+-------------------+-------------+-------------------+------+------+\nonly showing top 20 rows\n\n",
          "name": "stdout"
        }
      ]
    },
    {
      "metadata": {},
      "cell_type": "markdown",
      "source": "### SQL"
    },
    {
      "metadata": {
        "trusted": true
      },
      "cell_type": "code",
      "source": "spark.sql(\"SELECT s.*, s.order_item_subtotal - s.next_item diff FROM ( SELECT order_item_order_id, order_item_id, order_item_subtotal , LEAD(order_item_subtotal) OVER(PARTITION BY order_item_order_id ORDER BY order_item_subtotal DESC) next_item, RANK() OVER(PARTITION BY order_item_order_id ORDER BY order_item_subtotal DESC) rnk FROM order_items) s WHERE rnk =  1 ORDER BY 1, 5 \").show()\n",
      "execution_count": null,
      "outputs": []
    },
    {
      "metadata": {},
      "cell_type": "markdown",
      "source": "# 6. Get order items contributing more than 75% of the total order"
    },
    {
      "metadata": {
        "trusted": true
      },
      "cell_type": "code",
      "source": "p61 = order_items.withColumn('order_revenue',sum('order_item_subtotal').over(Window.partitionBy('order_item_order_id'))).\\\nwithColumn('pcnt',round(col('order_item_subtotal')/col('order_revenue'),2))",
      "execution_count": 30,
      "outputs": []
    },
    {
      "metadata": {
        "trusted": true
      },
      "cell_type": "code",
      "source": "p62= p61.filter(col('pcnt') >= 0.75).drop('order_item_product_id','order_item_quantity','order_item_product_price').orderBy('order_item_order_id')",
      "execution_count": 31,
      "outputs": []
    },
    {
      "metadata": {
        "trusted": true
      },
      "cell_type": "code",
      "source": "p6=p62",
      "execution_count": 32,
      "outputs": []
    },
    {
      "metadata": {
        "trusted": true
      },
      "cell_type": "code",
      "source": "p6.show()",
      "execution_count": 34,
      "outputs": [
        {
          "output_type": "stream",
          "text": "+-------------+-------------------+-------------------+-------------+----+\n|order_item_id|order_item_order_id|order_item_subtotal|order_revenue|pcnt|\n+-------------+-------------------+-------------------+-------------+----+\n|            1|                  1|             299.98|       299.98| 1.0|\n|           39|                 13|             127.96|       127.96| 1.0|\n|           68|                 23|             299.98|       299.98| 1.0|\n|           74|                 25|             399.98|       399.98| 1.0|\n|           88|                 30|              100.0|        100.0| 1.0|\n|           89|                 31|             499.95|       499.95| 1.0|\n|           94|                 34|             299.98|       299.98| 1.0|\n|           95|                 35|             129.99|       129.99| 1.0|\n|          103|                 39|             199.99|       199.99| 1.0|\n|          112|                 44|             399.98|       399.98| 1.0|\n|          127|                 51|             399.98|       449.98|0.89|\n|          161|                 65|             299.98|       299.98| 1.0|\n|          166|                 67|              150.0|        150.0| 1.0|\n|          167|                 68|             299.98|       299.98| 1.0|\n|          168|                 69|             239.96|       239.96| 1.0|\n|          172|                 71|             499.95|       659.92|0.76|\n|          184|                 74|             119.98|       119.98| 1.0|\n|          198|                 83|             199.99|       199.99| 1.0|\n|          204|                 87|             119.97|       119.97| 1.0|\n|          209|                 92|             199.92|       199.92| 1.0|\n+-------------+-------------------+-------------------+-------------+----+\nonly showing top 20 rows\n\n",
          "name": "stdout"
        }
      ]
    },
    {
      "metadata": {},
      "cell_type": "markdown",
      "source": "### SQL\n"
    },
    {
      "metadata": {
        "trusted": true
      },
      "cell_type": "code",
      "source": "spark.sql(\"SELECT s.*  FROM (SELECT order_item_id, order_item_order_id, order_item_subtotal, round(sum(order_item_subtotal) over(partition by order_item_order_id),2) order_revenue , round(order_item_subtotal/round(sum(order_item_subtotal) over(partition by order_item_order_id),2),2) pcnt FROM order_items) s WHERE pcnt >= 0.75 ORDER BY 1\").show()\n",
      "execution_count": null,
      "outputs": []
    },
    {
      "metadata": {},
      "cell_type": "markdown",
      "source": "# 7.What are the best-selling and the second best-selling products in every category?"
    },
    {
      "metadata": {
        "trusted": true
      },
      "cell_type": "code",
      "source": "p71 = order_items.join(products, order_items.order_item_product_id == products.product_id).join(categories, categories.category_id == products.product_category_id).groupBy('category_name','product_name').agg(round(sum(order_items.order_item_subtotal),2).alias('product_revenue'))",
      "execution_count": 35,
      "outputs": []
    },
    {
      "metadata": {
        "trusted": true
      },
      "cell_type": "code",
      "source": "p72=p71.withColumn('rnk',rank().over(Window.partitionBy('category_name').orderBy(col('product_revenue').desc()))).filter(col('rnk') <=2).orderBy('category_name','rnk')",
      "execution_count": 36,
      "outputs": []
    },
    {
      "metadata": {
        "trusted": true
      },
      "cell_type": "code",
      "source": "p7=p72",
      "execution_count": 37,
      "outputs": []
    },
    {
      "metadata": {
        "trusted": true
      },
      "cell_type": "code",
      "source": "p7.show()",
      "execution_count": 39,
      "outputs": [
        {
          "output_type": "stream",
          "text": "+-------------------+--------------------+---------------+---+\n|      category_name|        product_name|product_revenue|rnk|\n+-------------------+--------------------+---------------+---+\n|        Accessories|Team Golf St. Lou...|       23940.42|  1|\n|        Accessories|Team Golf Tenness...|       22865.85|  2|\n|    As Seen on  TV!|Nike Men's Free T...|       20597.94|  1|\n|Baseball & Softball|adidas Men's F10 ...|       56330.61|  1|\n|Baseball & Softball|adidas Kids' F5 M...|       27327.19|  2|\n|         Basketball| SOLE E25 Elliptical|         9999.9|  1|\n|         Basketball|Diamondback Boys'...|        8699.71|  2|\n|       Boxing & MMA|Under Armour Wome...|       46559.59|  1|\n|       Boxing & MMA|Nike Women's Free...|       19567.94|  2|\n|   Camping & Hiking|Diamondback Women...|     4118425.42|  1|\n|   Cardio Equipment|Nike Men's Free 5...|      3667633.2|  1|\n|   Cardio Equipment|Nike Women's Temp...|        27210.0|  2|\n|             Cleats|Perfect Fitness P...|     4421143.02|  1|\n|             Cleats|      Total Gym 1400|       10799.64|  2|\n|        Electronics|Titleist Pro V1x ...|       47206.92|  1|\n|        Electronics|Titleist Pro V1 H...|       44243.49|  2|\n|            Fishing|Field & Stream Sp...|      6929653.5|  1|\n|Fitness Accessories|Under Armour Hust...|       29601.54|  1|\n|Fitness Accessories|Bowflex SelectTec...|         5999.9|  2|\n|     Girls' Apparel|adidas Youth Germ...|        67830.0|  1|\n+-------------------+--------------------+---------------+---+\nonly showing top 20 rows\n\n",
          "name": "stdout"
        }
      ]
    },
    {
      "metadata": {},
      "cell_type": "markdown",
      "source": "### SQL"
    },
    {
      "metadata": {
        "trusted": true
      },
      "cell_type": "code",
      "source": "spark.sql(\"SELECT * FROM (SELECT c.category_name, p.product_name, round(sum(oi.order_item_subtotal),2) product_revenue, rank() over(partition by c.category_name ORDER BY round(sum(oi.order_item_subtotal)) DESC) rnk FROM order_items oi, products p, categories c WHERE oi.order_item_product_id = p.product_id AND p.product_category_id = c.category_id GROUP BY c.category_name, p.product_name ) WHERE rnk<= 2 ORDER BY 1,4\").show()",
      "execution_count": null,
      "outputs": []
    },
    {
      "metadata": {},
      "cell_type": "markdown",
      "source": "# 8. What is the difference between the revenue of each product and the revenue of the best-selling product in the same category of that product?"
    },
    {
      "metadata": {
        "trusted": true
      },
      "cell_type": "code",
      "source": "p8=order_items.join(products, products.product_id == order_items.order_item_product_id).\\\njoin(categories, categories.category_id ==  products.product_category_id).\\\ngroupBy('category_name','product_name').agg(round(sum('order_item_subtotal'),2).alias('product_revenue')).\\\nwithColumn('best',max(col('product_revenue')).over(Window.partitionBy('category_name'))).withColumn('diff_prices',col('best')-col('product_revenue')).\\\norderBy('category_name','product_revenue')",
      "execution_count": 42,
      "outputs": []
    },
    {
      "metadata": {
        "trusted": true
      },
      "cell_type": "code",
      "source": "p8.show()",
      "execution_count": 43,
      "outputs": [
        {
          "output_type": "stream",
          "text": "+-------------------+--------------------+---------------+----------+------------------+\n|      category_name|        product_name|product_revenue|      best|       diff_prices|\n+-------------------+--------------------+---------------+----------+------------------+\n|        Accessories|Team Golf New Eng...|       20566.77|  23940.42| 3373.649999999998|\n|        Accessories|Team Golf San Fra...|       21766.29|  23940.42|2174.1299999999974|\n|        Accessories|Team Golf Pittsbu...|       22166.13|  23940.42|1774.2899999999972|\n|        Accessories|Team Golf Texas L...|       22366.05|  23940.42| 1574.369999999999|\n|        Accessories|Team Golf Tenness...|       22865.85|  23940.42|1074.5699999999997|\n|        Accessories|Team Golf St. Lou...|       23940.42|  23940.42|               0.0|\n|    As Seen on  TV!|Nike Men's Free T...|       20597.94|  20597.94|               0.0|\n|Baseball & Softball|adidas Brazuca 20...|       10399.35|  56330.61|          45931.26|\n|Baseball & Softball|adidas Kids' F5 M...|       27327.19|  56330.61|29003.420000000002|\n|Baseball & Softball|adidas Men's F10 ...|       56330.61|  56330.61|               0.0|\n|         Basketball|Diamondback Girls...|        8399.72|    9999.9|1600.1800000000003|\n|         Basketball|Diamondback Boys'...|        8699.71|    9999.9|1300.1900000000005|\n|         Basketball| SOLE E25 Elliptical|         9999.9|    9999.9|               0.0|\n|       Boxing & MMA|Brooks Women's Gh...|       19077.88|  46559.59|27481.709999999995|\n|       Boxing & MMA|Nike Women's Free...|       19567.94|  46559.59|26991.649999999998|\n|       Boxing & MMA|Under Armour Wome...|       46559.59|  46559.59|               0.0|\n|   Camping & Hiking|Diamondback Women...|     4118425.42|4118425.42|               0.0|\n|   Cardio Equipment|Nike Women's Temp...|        27210.0| 3667633.2|         3640423.2|\n|   Cardio Equipment|Nike Men's Free 5...|      3667633.2| 3667633.2|               0.0|\n|             Cleats|      Total Gym 1400|       10799.64|4421143.02|        4410343.38|\n+-------------------+--------------------+---------------+----------+------------------+\nonly showing top 20 rows\n\n",
          "name": "stdout"
        }
      ]
    },
    {
      "metadata": {},
      "cell_type": "markdown",
      "source": "### SQL"
    },
    {
      "metadata": {
        "trusted": true
      },
      "cell_type": "code",
      "source": "spark.sql(\"SELECT s.*, best_product - product_revenue diff_prices FROM (SELECT c.category_name, p.product_name, ROUND(SUM(oi.order_item_subtotal),2) product_revenue, MAX(ROUND(SUM(oi.order_item_subtotal),2)) OVER(PARTITION BY c.category_name) best_product FROM categories c, products p , order_items oi WHERE oi.order_item_product_id = p.product_id AND p.product_category_id = c.category_id GROUP BY c.category_name, p.product_name) s ORDER BY 1,3\").show()\n\n",
      "execution_count": null,
      "outputs": []
    },
    {
      "metadata": {},
      "cell_type": "markdown",
      "source": "# 9.Most selling product (But Quantity not by Cost) for every month in the database (Between July 2013 to July 2014) "
    },
    {
      "metadata": {
        "trusted": true
      },
      "cell_type": "code",
      "source": "p91=orders.join(order_items, orders.order_id == order_items.order_item_order_id).join(products, products.product_id == order_items.order_item_product_id).withColumn('date_month',date_format(orders.order_date,'yyyyMM').cast('bigint')).filter(col('date_month').between(201307,201407))",
      "execution_count": 44,
      "outputs": []
    },
    {
      "metadata": {
        "trusted": true
      },
      "cell_type": "code",
      "source": "p92=p91.groupBy(col('date_month'),'product_name').agg(sum(order_items.order_item_quantity).alias('order_quantity'))",
      "execution_count": 45,
      "outputs": []
    },
    {
      "metadata": {
        "trusted": true
      },
      "cell_type": "code",
      "source": "p93=p92.withColumn('rnk',rank().over(Window.partitionBy(col('date_month')).orderBy(col('order_quantity').desc()))).filter(col('rnk')==1).orderBy(col('date_month'))",
      "execution_count": 46,
      "outputs": []
    },
    {
      "metadata": {
        "trusted": true
      },
      "cell_type": "code",
      "source": "p9=p93\np9.show()",
      "execution_count": 48,
      "outputs": [
        {
          "output_type": "stream",
          "text": "+----------+--------------------+--------------+---+\n|date_month|        product_name|order_quantity|rnk|\n+----------+--------------------+--------------+---+\n|    201307|Perfect Fitness P...|          1710|  1|\n|    201308|Perfect Fitness P...|          6089|  1|\n|    201309|Perfect Fitness P...|          6153|  1|\n|    201310|Perfect Fitness P...|          5699|  1|\n|    201311|Perfect Fitness P...|          6745|  1|\n|    201312|Perfect Fitness P...|          5983|  1|\n|    201401|Perfect Fitness P...|          6340|  1|\n|    201402|Perfect Fitness P...|          6315|  1|\n|    201403|Perfect Fitness P...|          6115|  1|\n|    201404|Perfect Fitness P...|          5959|  1|\n|    201405|Perfect Fitness P...|          6014|  1|\n|    201406|Perfect Fitness P...|          5873|  1|\n|    201407|Perfect Fitness P...|          4703|  1|\n+----------+--------------------+--------------+---+\n\n",
          "name": "stdout"
        }
      ]
    },
    {
      "metadata": {},
      "cell_type": "markdown",
      "source": "### SQL"
    },
    {
      "metadata": {
        "trusted": true
      },
      "cell_type": "code",
      "source": "spark.sql(\"SELECT * FROM (SELECT date_format(o.order_date,'yyyyMM') order_month, p.product_name, sum(oi.order_item_quantity) order_quantity, rank() over(partition by date_format(o.order_date,'yyyyMM') order by sum(oi.order_item_quantity) desc) rnk from orders o, order_items oi, products p WHERE oi.order_item_order_id = o.order_id and oi.order_item_product_id = p.product_id GROUP BY date_format(o.order_date,'yyyyMM'), p.product_name) s WHERE rnk=1 ORDER BY 1\").show()\n",
      "execution_count": null,
      "outputs": []
    },
    {
      "metadata": {},
      "cell_type": "markdown",
      "source": "# 10. Who are the top 10 revenue generating customers"
    },
    {
      "metadata": {
        "trusted": true
      },
      "cell_type": "code",
      "source": "orders.join(order_items, orders.order_id ==  order_items.order_item_order_id).join(customers, customers.customer_id ==  orders.order_customer_id).\\\ngroupBy(customers.customer_id, concat_ws(' ',customers.customer_fname,customers.customer_lname)).\\\nagg(sum(order_items.order_item_subtotal).alias('customer_revenue')).orderBy(col('customer_revenue').desc()).limit(10).show()\n",
      "execution_count": 49,
      "outputs": [
        {
          "output_type": "stream",
          "text": "+-----------+--------------------------------------------+------------------+\n|customer_id|concat_ws( , customer_fname, customer_lname)|  customer_revenue|\n+-----------+--------------------------------------------+------------------+\n|        791|                                  Mary Smith|10524.169999999993|\n|       9371|                              Mary Patterson| 9299.029999999997|\n|       8766|                                 Mary Duncan| 9296.139999999998|\n|       1657|                              Betty Phillips| 9223.709999999994|\n|       2641|                                Betty Spears| 9130.919999999995|\n|       1288|                             Evelyn Thompson| 9019.109999999995|\n|       3710|                                Ashley Smith| 9019.099999999999|\n|       4249|                                 Mary Butler| 8918.849999999997|\n|       5654|                                 Jerry Smith| 8904.949999999997|\n|       5624|                                   Mary Mata| 8761.979999999996|\n+-----------+--------------------------------------------+------------------+\n\n",
          "name": "stdout"
        }
      ]
    },
    {
      "metadata": {},
      "cell_type": "markdown",
      "source": "# 11. What are the top 10 revenue generating products"
    },
    {
      "metadata": {
        "trusted": true
      },
      "cell_type": "code",
      "source": "orders.join(order_items, orders.order_id ==  order_items.order_item_order_id).join(products, products.product_id==order_items.order_item_product_id).\\\ngroupBy('product_id','product_name').agg(round(sum(order_items.order_item_subtotal),2).alias('product_revenue')).\\\norderBy(col('product_revenue').desc()).limit(10).show()\n",
      "execution_count": 50,
      "outputs": [
        {
          "output_type": "stream",
          "text": "+----------+--------------------+---------------+\n|product_id|        product_name|product_revenue|\n+----------+--------------------+---------------+\n|      1004|Field & Stream Sp...|      6929653.5|\n|       365|Perfect Fitness P...|     4421143.02|\n|       957|Diamondback Women...|     4118425.42|\n|       191|Nike Men's Free 5...|      3667633.2|\n|       502|Nike Men's Dri-FI...|      3147800.0|\n|      1073|Pelican Sunstream...|      3099845.0|\n|       403|Nike Men's CJ Eli...|     2891757.54|\n|      1014|O'Brien Men's Neo...|     2888993.94|\n|       627|Under Armour Girl...|     1269082.65|\n|       565|adidas Youth Germ...|        67830.0|\n+----------+--------------------+---------------+\n\n",
          "name": "stdout"
        }
      ]
    },
    {
      "metadata": {},
      "cell_type": "markdown",
      "source": "# 12. Top 5 revenue generating deparments"
    },
    {
      "metadata": {
        "trusted": true
      },
      "cell_type": "code",
      "source": "order_items.join(products, products.product_id ==  order_items.order_item_product_id).\\\njoin(categories, categories.category_id == products.product_category_id).\\\njoin(departments, departments.department_id ==  categories.category_department_id).\\\ngroupBy('department_id','department_name').agg(round(sum(order_items.order_item_subtotal),2).alias('dept_revenue')).\\\norderBy(col('dept_revenue').desc()).limit(5).show()\n",
      "execution_count": 52,
      "outputs": [
        {
          "output_type": "stream",
          "text": "+-------------+---------------+-------------+\n|department_id|department_name| dept_revenue|\n+-------------+---------------+-------------+\n|            7|       Fan Shop|1.710776588E7|\n|            4|        Apparel|    7323700.2|\n|            5|           Golf|   4609028.22|\n|            3|       Footwear|   4006498.77|\n|            6|       Outdoors|    995582.72|\n+-------------+---------------+-------------+\n\n",
          "name": "stdout"
        }
      ]
    },
    {
      "metadata": {},
      "cell_type": "markdown",
      "source": "# 13. Top 5 revenue generating cities (from address of Customers)"
    },
    {
      "metadata": {
        "trusted": true
      },
      "cell_type": "code",
      "source": "orders.join(order_items, orders.order_id ==  order_items.order_item_order_id).\\\njoin(customers, customers.customer_id ==  orders.order_customer_id).\\\ngroupBy(customers.customer_city).agg(round(sum(order_items.order_item_subtotal),2).alias('city_revenue')).\\\norderBy(col('city_revenue').desc()).limit(5).show()\n",
      "execution_count": 54,
      "outputs": [
        {
          "output_type": "stream",
          "text": "+-------------+-------------+\n|customer_city| city_revenue|\n+-------------+-------------+\n|       Caguas|1.269771807E7|\n|      Chicago|    746869.57|\n|  Los Angeles|    645083.23|\n|     Brooklyn|    643507.92|\n|     New York|    338937.57|\n+-------------+-------------+\n\n",
          "name": "stdout"
        }
      ]
    }
  ],
  "metadata": {
    "kernelspec": {
      "name": "python36",
      "display_name": "Python 3.6",
      "language": "python"
    },
    "language_info": {
      "mimetype": "text/x-python",
      "nbconvert_exporter": "python",
      "name": "python",
      "pygments_lexer": "ipython3",
      "version": "3.6.6",
      "file_extension": ".py",
      "codemirror_mode": {
        "version": 3,
        "name": "ipython"
      }
    }
  },
  "nbformat": 4,
  "nbformat_minor": 2
}