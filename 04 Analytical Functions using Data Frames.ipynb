{
 "cells": [
  {
   "cell_type": "code",
   "execution_count": null,
   "metadata": {},
   "outputs": [],
   "source": [
    "from pyspark.sql import SparkSession\n",
    "from pyspark.sql.types import *\n",
    "from pyspark.sql.functions import *\n",
    "from pyspark.sql.window import Window"
   ]
  },
  {
   "cell_type": "code",
   "execution_count": null,
   "metadata": {},
   "outputs": [],
   "source": [
    "spark = SparkSession.builder.master('local').appName('operDataFrames').enableHiveSupport().getOrCreate()\n",
    "sc=spark.sparkContext"
   ]
  },
  {
   "cell_type": "code",
   "execution_count": null,
   "metadata": {},
   "outputs": [],
   "source": [
    "orders = spark.read.csv('retail_db//orders.csv',header=True,inferSchema=True)\n",
    "order_items = spark.read.csv('retail_db//order_items.csv',header=True,inferSchema=True)\n",
    "customers = spark.read.csv('retail_db//customers.csv',header=True,inferSchema=True)\n",
    "products = spark.read.csv('retail_db//products.csv',header=True,inferSchema=True)"
   ]
  },
  {
   "cell_type": "markdown",
   "metadata": {},
   "source": [
    "# Analytical functions "
   ]
  },
  {
   "cell_type": "markdown",
   "metadata": {},
   "source": [
    "### It is driven by windowing function 'Window' imported from 'pyspark.sql.window'"
   ]
  },
  {
   "cell_type": "markdown",
   "metadata": {},
   "source": [
    "### Basic analytical functions "
   ]
  },
  {
   "cell_type": "markdown",
   "metadata": {},
   "source": [
    "These analytical functions are count(), sum(), min(), max() and avg()\n"
   ]
  },
  {
   "cell_type": "markdown",
   "metadata": {},
   "source": [
    "Only partition by clause is applicable (No order by clause is needed)"
   ]
  },
  {
   "cell_type": "markdown",
   "metadata": {},
   "source": [
    "#### Define the specification for windowing according to the problem statement"
   ]
  },
  {
   "cell_type": "code",
   "execution_count": null,
   "metadata": {},
   "outputs": [],
   "source": [
    "spec=Window.partitionBy(order_items.order_item_order_id)"
   ]
  },
  {
   "cell_type": "code",
   "execution_count": null,
   "metadata": {},
   "outputs": [],
   "source": [
    "order_items.withColumn('order_sum',sum(order_items.order_item_subtotal).over(spec)).show()"
   ]
  },
  {
   "cell_type": "code",
   "execution_count": null,
   "metadata": {},
   "outputs": [],
   "source": [
    "order_items. \\\n",
    "withColumn('order_sum',sum(order_items.order_item_subtotal).over(spec)). \\\n",
    "withColumn('order_max',max(order_items.order_item_subtotal).over(spec)). \\\n",
    "withColumn('order_min',min(order_items.order_item_subtotal).over(spec)). \\\n",
    "withColumn('order_avg',avg(order_items.order_item_subtotal).over(spec)). \\\n",
    "withColumn('order_count',count(order_items.order_item_subtotal).over(spec)). \\\n",
    "withColumn('order_count1',count(lit(\"1\")).over(spec)). \\\n",
    "drop('order_item_product_id','order_item_quantity','order_item_product_price'). \\\n",
    "orderBy('order_item_order_id').show()"
   ]
  },
  {
   "cell_type": "markdown",
   "metadata": {},
   "source": [
    "## Numbering Analytical functions "
   ]
  },
  {
   "cell_type": "markdown",
   "metadata": {},
   "source": [
    "These analytical functions are rank(), dense_rank(), row_number(), lead(), lag() and ntile()"
   ]
  },
  {
   "cell_type": "markdown",
   "metadata": {},
   "source": [
    "Both partitionBy and orderBy clauses must be specified for windowing "
   ]
  },
  {
   "cell_type": "code",
   "execution_count": null,
   "metadata": {},
   "outputs": [],
   "source": [
    "spec=Window.partitionBy(order_items.order_item_order_id).orderBy(order_items.order_item_subtotal.desc())"
   ]
  },
  {
   "cell_type": "code",
   "execution_count": null,
   "metadata": {},
   "outputs": [],
   "source": [
    "order_items.withColumn('rnk',rank().over(spec)).show()"
   ]
  },
  {
   "cell_type": "code",
   "execution_count": null,
   "metadata": {},
   "outputs": [],
   "source": [
    "order_items. \\\n",
    "withColumn('rnk',rank().over(spec)). \\\n",
    "withColumn('drnk',dense_rank().over(spec)). \\\n",
    "withColumn('rn',row_number().over(spec)). \\\n",
    "withColumn('ld',lead(order_items.order_item_subtotal).over(spec)). \\\n",
    "withColumn('lg',lag(order_items.order_item_subtotal).over(spec)). \\\n",
    "drop('order_item_product_id','order_item_quantity','order_item_product_price'). \\\n",
    "orderBy('order_item_order_id').show()"
   ]
  }
 ],
 "metadata": {
  "kernelspec": {
   "display_name": "Python 2",
   "language": "python",
   "name": "python2"
  },
  "language_info": {
   "codemirror_mode": {
    "name": "ipython",
    "version": 3
   },
   "file_extension": ".py",
   "mimetype": "text/x-python",
   "name": "python",
   "nbconvert_exporter": "python",
   "pygments_lexer": "ipython3",
   "version": "3.7.4"
  }
 },
 "nbformat": 4,
 "nbformat_minor": 4
}
