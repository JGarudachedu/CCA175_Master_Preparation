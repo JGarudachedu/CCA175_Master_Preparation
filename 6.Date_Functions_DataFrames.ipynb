{
  "cells": [
    {
      "metadata": {
        "trusted": true
      },
      "cell_type": "code",
      "source": "from pyspark.sql import SparkSession\nfrom pyspark.sql.functions import *\nspark = SparkSession.builder.master('local').appName('aggDataFrames').enableHiveSupport().getOrCreate()\nsc=spark.sparkContext",
      "execution_count": 2,
      "outputs": []
    },
    {
      "metadata": {
        "trusted": true
      },
      "cell_type": "code",
      "source": "orders = spark.read.csv('data//retail_db//orders.csv',header=True,inferSchema=True)\norder_items = spark.read.csv('data//retail_db//order_items.csv',header=True,inferSchema=True)\ncustomers = spark.read.csv('data//retail_db//customers.csv',header=True,inferSchema=True)\nproducts = spark.read.csv('data//retail_db//products.csv',header=True,inferSchema=True)",
      "execution_count": 3,
      "outputs": []
    },
    {
      "metadata": {},
      "cell_type": "markdown",
      "source": "## current_date()"
    },
    {
      "metadata": {
        "trusted": true
      },
      "cell_type": "code",
      "source": "df =spark.createDataFrame([(1,)])",
      "execution_count": 4,
      "outputs": []
    },
    {
      "metadata": {
        "trusted": true
      },
      "cell_type": "code",
      "source": "df.select(current_date()).show()",
      "execution_count": 5,
      "outputs": [
        {
          "output_type": "stream",
          "text": "+--------------+\n|current_date()|\n+--------------+\n|    2020-04-04|\n+--------------+\n\n",
          "name": "stdout"
        }
      ]
    },
    {
      "metadata": {},
      "cell_type": "markdown",
      "source": "## current_timestamp()"
    },
    {
      "metadata": {
        "trusted": true
      },
      "cell_type": "code",
      "source": "df.select(current_timestamp()).show()",
      "execution_count": 13,
      "outputs": [
        {
          "output_type": "stream",
          "text": "+--------------------+\n| current_timestamp()|\n+--------------------+\n|2020-04-04 08:45:...|\n+--------------------+\n\n",
          "name": "stdout"
        }
      ]
    },
    {
      "metadata": {
        "trusted": true
      },
      "cell_type": "code",
      "source": "df.select(current_timestamp()).take(1)",
      "execution_count": 12,
      "outputs": [
        {
          "output_type": "execute_result",
          "execution_count": 12,
          "data": {
            "text/plain": "[Row(current_timestamp()=datetime.datetime(2020, 4, 4, 8, 45, 43, 849000))]"
          },
          "metadata": {}
        }
      ]
    },
    {
      "metadata": {},
      "cell_type": "markdown",
      "source": "## date_format()"
    },
    {
      "metadata": {},
      "cell_type": "markdown",
      "source": "### Converts Date/Timestamp to String Format"
    },
    {
      "metadata": {
        "trusted": true
      },
      "cell_type": "code",
      "source": "df.select(date_format(current_timestamp(),'yyyy-MM-dd a HH:hh:mm:ss.S').alias('date')).show()",
      "execution_count": 15,
      "outputs": [
        {
          "output_type": "stream",
          "text": "+--------------------+\n|                date|\n+--------------------+\n|2020-04-04 AM 08:...|\n+--------------------+\n\n",
          "name": "stdout"
        }
      ]
    },
    {
      "metadata": {
        "trusted": true
      },
      "cell_type": "code",
      "source": "df.select(date_format(current_timestamp(),'yyyy-MM-dd a HH:hh:mm:ss.S').alias('date')).take(1)",
      "execution_count": 16,
      "outputs": [
        {
          "output_type": "execute_result",
          "execution_count": 16,
          "data": {
            "text/plain": "[Row(date='2020-04-04 AM 08:08:46:14.421')]"
          },
          "metadata": {}
        }
      ]
    },
    {
      "metadata": {},
      "cell_type": "markdown",
      "source": "## Extraction in date"
    },
    {
      "metadata": {
        "trusted": true
      },
      "cell_type": "code",
      "source": "df.select(year(current_timestamp()).alias('date_year')).show()",
      "execution_count": 18,
      "outputs": [
        {
          "output_type": "stream",
          "text": "+---------+\n|date_year|\n+---------+\n|     2020|\n+---------+\n\n",
          "name": "stdout"
        }
      ]
    },
    {
      "metadata": {
        "trusted": true
      },
      "cell_type": "code",
      "source": "df.select(month(current_timestamp()).alias('date_month')).show()",
      "execution_count": 19,
      "outputs": [
        {
          "output_type": "stream",
          "text": "+----------+\n|date_month|\n+----------+\n|         4|\n+----------+\n\n",
          "name": "stdout"
        }
      ]
    },
    {
      "metadata": {},
      "cell_type": "markdown",
      "source": "### Options for extraction are \nyear(), quarter(), month(), dayofmonth(), dayofweek(), dayofyear(), hour(), minute(), second(), weekofyear()\n\n"
    },
    {
      "metadata": {},
      "cell_type": "markdown",
      "source": "## date_add"
    },
    {
      "metadata": {
        "trusted": true
      },
      "cell_type": "code",
      "source": "orders.select(orders.order_date, date_add(orders.order_date,1)).show(5)",
      "execution_count": 24,
      "outputs": [
        {
          "output_type": "stream",
          "text": "+-----------------------+\n|date_add(order_date, 1)|\n+-----------------------+\n|             2013-07-26|\n|             2013-07-26|\n|             2013-07-26|\n|             2013-07-26|\n|             2013-07-26|\n+-----------------------+\nonly showing top 5 rows\n\n",
          "name": "stdout"
        }
      ]
    },
    {
      "metadata": {
        "trusted": true
      },
      "cell_type": "code",
      "source": "orders.select(orders.order_date, date_add(orders.order_date,-1)).show(5)\n#Negative parameter works",
      "execution_count": 26,
      "outputs": [
        {
          "output_type": "stream",
          "text": "+------------------------+\n|date_add(order_date, -1)|\n+------------------------+\n|              2013-07-24|\n|              2013-07-24|\n|              2013-07-24|\n|              2013-07-24|\n|              2013-07-24|\n+------------------------+\nonly showing top 5 rows\n\n",
          "name": "stdout"
        }
      ]
    },
    {
      "metadata": {},
      "cell_type": "markdown",
      "source": "## date_sub"
    },
    {
      "metadata": {
        "trusted": true
      },
      "cell_type": "code",
      "source": "orders.select(orders.order_date, date_sub(orders.order_date,1)).show(5)",
      "execution_count": 25,
      "outputs": [
        {
          "output_type": "stream",
          "text": "+-----------------------+\n|date_sub(order_date, 1)|\n+-----------------------+\n|             2013-07-24|\n|             2013-07-24|\n|             2013-07-24|\n|             2013-07-24|\n|             2013-07-24|\n+-----------------------+\nonly showing top 5 rows\n\n",
          "name": "stdout"
        }
      ]
    },
    {
      "metadata": {
        "trusted": true
      },
      "cell_type": "code",
      "source": "orders.select(orders.order_date, date_sub(orders.order_date,-1)).show(5)\n#Negative parameter works",
      "execution_count": 28,
      "outputs": [
        {
          "output_type": "stream",
          "text": "+------------------------+\n|date_sub(order_date, -1)|\n+------------------------+\n|              2013-07-26|\n|              2013-07-26|\n|              2013-07-26|\n|              2013-07-26|\n|              2013-07-26|\n+------------------------+\nonly showing top 5 rows\n\n",
          "name": "stdout"
        }
      ]
    },
    {
      "metadata": {},
      "cell_type": "markdown",
      "source": "## date_diff"
    },
    {
      "metadata": {
        "trusted": true
      },
      "cell_type": "code",
      "source": "orders.select(datediff(orders.order_date,date_sub(orders.order_date,1))).show(5)   ",
      "execution_count": 30,
      "outputs": [
        {
          "output_type": "stream",
          "text": "+---------------------------------------------+\n|datediff(order_date, date_sub(order_date, 1))|\n+---------------------------------------------+\n|                                            1|\n|                                            1|\n|                                            1|\n|                                            1|\n|                                            1|\n+---------------------------------------------+\nonly showing top 5 rows\n\n",
          "name": "stdout"
        }
      ]
    },
    {
      "metadata": {},
      "cell_type": "markdown",
      "source": "## add_months"
    },
    {
      "metadata": {
        "trusted": true
      },
      "cell_type": "code",
      "source": "orders.select(orders.order_date, add_months(orders.order_date,1)).show(5)",
      "execution_count": 33,
      "outputs": [
        {
          "output_type": "stream",
          "text": "+-------------------+-------------------------+\n|         order_date|add_months(order_date, 1)|\n+-------------------+-------------------------+\n|2013-07-25 00:00:00|               2013-08-25|\n|2013-07-25 00:00:00|               2013-08-25|\n|2013-07-25 00:00:00|               2013-08-25|\n|2013-07-25 00:00:00|               2013-08-25|\n|2013-07-25 00:00:00|               2013-08-25|\n+-------------------+-------------------------+\nonly showing top 5 rows\n\n",
          "name": "stdout"
        }
      ]
    },
    {
      "metadata": {
        "trusted": true
      },
      "cell_type": "code",
      "source": "orders.select(orders.order_date, add_months(orders.order_date,-1)).show(5)\n#Negative parameter works",
      "execution_count": 35,
      "outputs": [
        {
          "output_type": "stream",
          "text": "+-------------------+--------------------------+\n|         order_date|add_months(order_date, -1)|\n+-------------------+--------------------------+\n|2013-07-25 00:00:00|                2013-06-25|\n|2013-07-25 00:00:00|                2013-06-25|\n|2013-07-25 00:00:00|                2013-06-25|\n|2013-07-25 00:00:00|                2013-06-25|\n|2013-07-25 00:00:00|                2013-06-25|\n+-------------------+--------------------------+\nonly showing top 5 rows\n\n",
          "name": "stdout"
        }
      ]
    },
    {
      "metadata": {},
      "cell_type": "markdown",
      "source": "## months_between"
    },
    {
      "metadata": {
        "trusted": true
      },
      "cell_type": "code",
      "source": "orders.select(months_between(date_add(add_months(orders.order_date,1),10), orders.order_date).alias('months_btwn')).show(5)",
      "execution_count": 39,
      "outputs": [
        {
          "output_type": "stream",
          "text": "+-----------+\n|months_btwn|\n+-----------+\n| 1.32258065|\n| 1.32258065|\n| 1.32258065|\n| 1.32258065|\n| 1.32258065|\n+-----------+\nonly showing top 5 rows\n\n",
          "name": "stdout"
        }
      ]
    },
    {
      "metadata": {},
      "cell_type": "markdown",
      "source": "## next_day\n#### Gets the date of the next upcoming day"
    },
    {
      "metadata": {
        "trusted": true
      },
      "cell_type": "code",
      "source": "orders.select(orders.order_date, next_day(orders.order_date,'sun').alias('Next_Sunday')).show(5)",
      "execution_count": 41,
      "outputs": [
        {
          "output_type": "stream",
          "text": "+-------------------+-----------+\n|         order_date|Next_Sunday|\n+-------------------+-----------+\n|2013-07-25 00:00:00| 2013-07-28|\n|2013-07-25 00:00:00| 2013-07-28|\n|2013-07-25 00:00:00| 2013-07-28|\n|2013-07-25 00:00:00| 2013-07-28|\n|2013-07-25 00:00:00| 2013-07-28|\n+-------------------+-----------+\nonly showing top 5 rows\n\n",
          "name": "stdout"
        }
      ]
    },
    {
      "metadata": {},
      "cell_type": "markdown",
      "source": "## last_day\n#### Gets the last day of the month"
    },
    {
      "metadata": {
        "trusted": true
      },
      "cell_type": "code",
      "source": "orders.select(orders.order_date, last_day(orders.order_date).alias('Last_day_of_the_month')).show(5)",
      "execution_count": 42,
      "outputs": [
        {
          "output_type": "stream",
          "text": "+-------------------+---------------------+\n|         order_date|Last_day_of_the_month|\n+-------------------+---------------------+\n|2013-07-25 00:00:00|           2013-07-31|\n|2013-07-25 00:00:00|           2013-07-31|\n|2013-07-25 00:00:00|           2013-07-31|\n|2013-07-25 00:00:00|           2013-07-31|\n|2013-07-25 00:00:00|           2013-07-31|\n+-------------------+---------------------+\nonly showing top 5 rows\n\n",
          "name": "stdout"
        }
      ]
    },
    {
      "metadata": {},
      "cell_type": "markdown",
      "source": "## trunc"
    },
    {
      "metadata": {
        "trusted": true
      },
      "cell_type": "code",
      "source": "orders.select(trunc(orders.order_date,'year'),trunc(orders.order_date,'month')).show(5)\n\n",
      "execution_count": 45,
      "outputs": [
        {
          "output_type": "stream",
          "text": "+-----------------------+------------------------+\n|trunc(order_date, year)|trunc(order_date, month)|\n+-----------------------+------------------------+\n|             2013-01-01|              2013-07-01|\n|             2013-01-01|              2013-07-01|\n|             2013-01-01|              2013-07-01|\n|             2013-01-01|              2013-07-01|\n|             2013-01-01|              2013-07-01|\n+-----------------------+------------------------+\nonly showing top 5 rows\n\n",
          "name": "stdout"
        }
      ]
    },
    {
      "metadata": {},
      "cell_type": "markdown",
      "source": "# Unix Date/Time"
    },
    {
      "metadata": {},
      "cell_type": "markdown",
      "source": "## from_unixtime \n#### Converts seconds after epoch date (1, Jan, 1970) to timestamp"
    },
    {
      "metadata": {
        "trusted": true
      },
      "cell_type": "code",
      "source": "time_df = spark.createDataFrame([(1428476400,)], ['unix_time'])\ntime_df.select(from_unixtime('unix_time', format=\"yyyy~MM~dd HH:mm:ss.SSSSSS\").alias('ts')).collect()",
      "execution_count": 46,
      "outputs": [
        {
          "output_type": "execute_result",
          "execution_count": 46,
          "data": {
            "text/plain": "[Row(ts='2015~04~08 07:00:00.000000')]"
          },
          "metadata": {}
        }
      ]
    },
    {
      "metadata": {
        "trusted": true
      },
      "cell_type": "code",
      "source": "time_df.select(from_unixtime('unix_time', format=\"yyyy~MM~dd HH:mm:ss.SSSSSS\").alias('ts')).show()",
      "execution_count": 47,
      "outputs": [
        {
          "output_type": "stream",
          "text": "+--------------------+\n|                  ts|\n+--------------------+\n|2015~04~08 07:00:...|\n+--------------------+\n\n",
          "name": "stdout"
        }
      ]
    },
    {
      "metadata": {},
      "cell_type": "markdown",
      "source": "## unix_timestamp \n#### Converts date/timestamp into seconds after epoch date"
    },
    {
      "metadata": {
        "trusted": true
      },
      "cell_type": "code",
      "source": "orders.select(unix_timestamp(orders.order_date)).show(5)",
      "execution_count": 48,
      "outputs": [
        {
          "output_type": "stream",
          "text": "+-----------------------------------------------+\n|unix_timestamp(order_date, yyyy-MM-dd HH:mm:ss)|\n+-----------------------------------------------+\n|                                     1374710400|\n|                                     1374710400|\n|                                     1374710400|\n|                                     1374710400|\n|                                     1374710400|\n+-----------------------------------------------+\nonly showing top 5 rows\n\n",
          "name": "stdout"
        }
      ]
    }
  ],
  "metadata": {
    "kernelspec": {
      "name": "python36",
      "display_name": "Python 3.6",
      "language": "python"
    },
    "language_info": {
      "mimetype": "text/x-python",
      "nbconvert_exporter": "python",
      "name": "python",
      "pygments_lexer": "ipython3",
      "version": "3.6.6",
      "file_extension": ".py",
      "codemirror_mode": {
        "version": 3,
        "name": "ipython"
      }
    }
  },
  "nbformat": 4,
  "nbformat_minor": 2
}