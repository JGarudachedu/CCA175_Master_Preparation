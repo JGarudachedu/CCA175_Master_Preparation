{
  "cells": [
    {
      "metadata": {
        "trusted": true
      },
      "cell_type": "code",
      "source": "from pyspark.sql import SparkSession\nfrom pyspark.sql.functions import *",
      "execution_count": 1,
      "outputs": []
    },
    {
      "metadata": {
        "trusted": true
      },
      "cell_type": "code",
      "source": "spark = SparkSession.builder.master('local').appName('aggDataFrames').enableHiveSupport().getOrCreate()",
      "execution_count": 2,
      "outputs": []
    },
    {
      "metadata": {
        "trusted": true
      },
      "cell_type": "code",
      "source": "sc=spark.sparkContext",
      "execution_count": 3,
      "outputs": []
    },
    {
      "metadata": {
        "trusted": true
      },
      "cell_type": "code",
      "source": "spark",
      "execution_count": 4,
      "outputs": [
        {
          "output_type": "execute_result",
          "execution_count": 4,
          "data": {
            "text/html": "\n            <div>\n                <p><b>SparkSession - hive</b></p>\n                \n        <div>\n            <p><b>SparkContext</b></p>\n\n            <p><a href=\"http://10.36.59.127:4043\">Spark UI</a></p>\n\n            <dl>\n              <dt>Version</dt>\n                <dd><code>v2.4.4</code></dd>\n              <dt>Master</dt>\n                <dd><code>local</code></dd>\n              <dt>AppName</dt>\n                <dd><code>aggDataFrames</code></dd>\n            </dl>\n        </div>\n        \n            </div>\n        ",
            "text/plain": "<pyspark.sql.session.SparkSession at 0x7f735004e860>"
          },
          "metadata": {}
        }
      ]
    },
    {
      "metadata": {
        "trusted": true
      },
      "cell_type": "code",
      "source": "orders = spark.read.csv('data//retail_db//orders.csv',header=True,inferSchema=True)\norder_items = spark.read.csv('data//retail_db//order_items.csv',header=True,inferSchema=True)\ncustomers = spark.read.csv('data//retail_db//customers.csv',header=True,inferSchema=True)\nproducts = spark.read.csv('data//retail_db//products.csv',header=True,inferSchema=True)",
      "execution_count": 5,
      "outputs": []
    },
    {
      "metadata": {},
      "cell_type": "markdown",
      "source": "# Total Aggregation"
    },
    {
      "metadata": {
        "trusted": true
      },
      "cell_type": "code",
      "source": "orders.select(count(orders.order_id)).show()",
      "execution_count": 6,
      "outputs": [
        {
          "output_type": "stream",
          "text": "+---------------+\n|count(order_id)|\n+---------------+\n|          68883|\n+---------------+\n\n",
          "name": "stdout"
        }
      ]
    },
    {
      "metadata": {
        "trusted": true
      },
      "cell_type": "code",
      "source": "order_items.select(max(order_items.order_item_subtotal).alias('total_maximum')).show()",
      "execution_count": 7,
      "outputs": [
        {
          "output_type": "stream",
          "text": "+-------------+\n|total_maximum|\n+-------------+\n|      1999.99|\n+-------------+\n\n",
          "name": "stdout"
        }
      ]
    },
    {
      "metadata": {
        "trusted": true
      },
      "cell_type": "code",
      "source": "order_items.select(min(order_items.order_item_subtotal).alias('total_minimum')).show()",
      "execution_count": 8,
      "outputs": [
        {
          "output_type": "stream",
          "text": "+-------------+\n|total_minimum|\n+-------------+\n|         9.99|\n+-------------+\n\n",
          "name": "stdout"
        }
      ]
    },
    {
      "metadata": {
        "trusted": true
      },
      "cell_type": "code",
      "source": "order_items.select(avg(order_items.order_item_subtotal).alias('total_avg')).show()",
      "execution_count": 9,
      "outputs": [
        {
          "output_type": "stream",
          "text": "+------------------+\n|         total_avg|\n+------------------+\n|199.32066533864273|\n+------------------+\n\n",
          "name": "stdout"
        }
      ]
    },
    {
      "metadata": {
        "trusted": true
      },
      "cell_type": "code",
      "source": "order_items.select(sum(order_items.order_item_subtotal).alias('total_sum')).show()",
      "execution_count": 10,
      "outputs": [
        {
          "output_type": "stream",
          "text": "+------------------+\n|         total_sum|\n+------------------+\n|3.43226199299836E7|\n+------------------+\n\n",
          "name": "stdout"
        }
      ]
    },
    {
      "metadata": {},
      "cell_type": "markdown",
      "source": "# groupBy"
    },
    {
      "metadata": {
        "trusted": true
      },
      "cell_type": "code",
      "source": "order_items.groupBy('order_item_order_id').sum('order_item_subtotal').show()",
      "execution_count": 11,
      "outputs": [
        {
          "output_type": "stream",
          "text": "+-------------------+------------------------+\n|order_item_order_id|sum(order_item_subtotal)|\n+-------------------+------------------------+\n|                148|                  479.99|\n|                463|       829.9200000000001|\n|                471|      169.98000000000002|\n|                496|      441.95000000000005|\n|               1088|      249.97000000000003|\n|               1580|                  299.95|\n|               1591|                  439.86|\n|               1645|      1509.7900000000002|\n|               2366|                  299.97|\n|               2659|       724.9100000000001|\n|               2866|                  569.96|\n|               3175|                  209.97|\n|               3749|                  143.97|\n|               3794|                  299.95|\n|               3918|       829.9300000000001|\n|               3997|                  579.95|\n|               4101|                  129.99|\n|               4519|                   79.98|\n|               4818|                  399.98|\n|               4900|                  179.97|\n+-------------------+------------------------+\nonly showing top 20 rows\n\n",
          "name": "stdout"
        }
      ]
    },
    {
      "metadata": {},
      "cell_type": "markdown",
      "source": "### agg() function"
    },
    {
      "metadata": {},
      "cell_type": "markdown",
      "source": "Addition of agg() right after groupBy helps us in the below cases\n"
    },
    {
      "metadata": {},
      "cell_type": "markdown",
      "source": "1. It helps us to use built-in functions to the resultant groupBy column as below"
    },
    {
      "metadata": {
        "trusted": true
      },
      "cell_type": "code",
      "source": "order_items.groupBy('order_item_order_id').agg(round(sum('order_item_subtotal'),2)).show()",
      "execution_count": 12,
      "outputs": [
        {
          "output_type": "stream",
          "text": "+-------------------+----------------------------------+\n|order_item_order_id|round(sum(order_item_subtotal), 2)|\n+-------------------+----------------------------------+\n|                148|                            479.99|\n|                463|                            829.92|\n|                471|                            169.98|\n|                496|                            441.95|\n|               1088|                            249.97|\n|               1580|                            299.95|\n|               1591|                            439.86|\n|               1645|                           1509.79|\n|               2366|                            299.97|\n|               2659|                            724.91|\n|               2866|                            569.96|\n|               3175|                            209.97|\n|               3749|                            143.97|\n|               3794|                            299.95|\n|               3918|                            829.93|\n|               3997|                            579.95|\n|               4101|                            129.99|\n|               4519|                             79.98|\n|               4818|                            399.98|\n|               4900|                            179.97|\n+-------------------+----------------------------------+\nonly showing top 20 rows\n\n",
          "name": "stdout"
        }
      ]
    },
    {
      "metadata": {
        "trusted": true
      },
      "cell_type": "code",
      "source": "#The above round() operation cannot be performed without agg() function \n# order_items.groupBy('order_item_order_id').round(sum('order_item_subtotal'),2)",
      "execution_count": 13,
      "outputs": []
    },
    {
      "metadata": {},
      "cell_type": "markdown",
      "source": "2. It helps us to add alias to the resultant groupBy column for cleaner expression"
    },
    {
      "metadata": {
        "trusted": true
      },
      "cell_type": "code",
      "source": "order_items.groupBy('order_item_order_id').agg(round(sum('order_item_subtotal'),2).alias('order_expense')).show()",
      "execution_count": 14,
      "outputs": [
        {
          "output_type": "stream",
          "text": "+-------------------+-------------+\n|order_item_order_id|order_expense|\n+-------------------+-------------+\n|                148|       479.99|\n|                463|       829.92|\n|                471|       169.98|\n|                496|       441.95|\n|               1088|       249.97|\n|               1580|       299.95|\n|               1591|       439.86|\n|               1645|      1509.79|\n|               2366|       299.97|\n|               2659|       724.91|\n|               2866|       569.96|\n|               3175|       209.97|\n|               3749|       143.97|\n|               3794|       299.95|\n|               3918|       829.93|\n|               3997|       579.95|\n|               4101|       129.99|\n|               4519|        79.98|\n|               4818|       399.98|\n|               4900|       179.97|\n+-------------------+-------------+\nonly showing top 20 rows\n\n",
          "name": "stdout"
        }
      ]
    }
  ],
  "metadata": {
    "kernelspec": {
      "name": "python36",
      "display_name": "Python 3.6",
      "language": "python"
    },
    "language_info": {
      "mimetype": "text/x-python",
      "nbconvert_exporter": "python",
      "name": "python",
      "pygments_lexer": "ipython3",
      "version": "3.6.6",
      "file_extension": ".py",
      "codemirror_mode": {
        "version": 3,
        "name": "ipython"
      }
    }
  },
  "nbformat": 4,
  "nbformat_minor": 2
}