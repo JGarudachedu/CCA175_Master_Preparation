{
  "cells": [
    {
      "metadata": {
        "trusted": true
      },
      "cell_type": "code",
      "source": "from pyspark.sql import SparkSession\nfrom pyspark.sql.functions import *\nspark = SparkSession.builder.master('local').appName('saveAsTableDataFrames').enableHiveSupport().getOrCreate()",
      "execution_count": 4,
      "outputs": []
    },
    {
      "metadata": {
        "trusted": true
      },
      "cell_type": "code",
      "source": "orders = spark.read.csv('data//retail_db//orders.csv',header=True,inferSchema=True)\norder_items = spark.read.csv('data//retail_db//order_items.csv',header=True,inferSchema=True)\ncustomers = spark.read.csv('data//retail_db//customers.csv',header=True,inferSchema=True)\nproducts = spark.read.csv('data//retail_db//products.csv',header=True,inferSchema=True)",
      "execution_count": 2,
      "outputs": []
    },
    {
      "metadata": {
        "trusted": true
      },
      "cell_type": "code",
      "source": "spark.sql('show databases').show()",
      "execution_count": null,
      "outputs": []
    },
    {
      "metadata": {
        "trusted": true
      },
      "cell_type": "code",
      "source": "spark.sql('create databases newdb if not exists').show()",
      "execution_count": null,
      "outputs": []
    },
    {
      "metadata": {},
      "cell_type": "markdown",
      "source": "## Text"
    },
    {
      "metadata": {},
      "cell_type": "markdown",
      "source": "### Be very careful while writing text. Give alias name before saving."
    },
    {
      "metadata": {
        "trusted": true
      },
      "cell_type": "code",
      "source": "ordersText = orders.select(concat_ws('~','order_id','order_date','order_status').alias('orders'))\nordersText.write.format('text').option('compression','none').option('mode','overwrite').saveAsTable('newdb.orders_text_none')",
      "execution_count": null,
      "outputs": []
    },
    {
      "metadata": {},
      "cell_type": "markdown",
      "source": "## csv"
    },
    {
      "metadata": {
        "trusted": true
      },
      "cell_type": "code",
      "source": "orders.coalesce(1).write.format('csv').option('mode','append').option('compression','none').\nsaveAsTable('newdb.orders_csv_none')\n",
      "execution_count": null,
      "outputs": []
    },
    {
      "metadata": {},
      "cell_type": "markdown",
      "source": "## JSON"
    },
    {
      "metadata": {
        "trusted": true
      },
      "cell_type": "code",
      "source": "orders.repartition(20).write.format('json').option('mode','append').option('compression','none').\nsaveAsTable('newdb.orders_json_none')",
      "execution_count": null,
      "outputs": []
    },
    {
      "metadata": {},
      "cell_type": "markdown",
      "source": "## ORC"
    },
    {
      "metadata": {
        "trusted": true
      },
      "cell_type": "code",
      "source": "orders.write.format('orc'). \\\noption('mode','append'). \\\noption('compression','none'). \\\nsaveAsTable('newdb.orders_orc_none')\n",
      "execution_count": null,
      "outputs": []
    },
    {
      "metadata": {},
      "cell_type": "markdown",
      "source": "## parquet"
    },
    {
      "metadata": {
        "trusted": true
      },
      "cell_type": "code",
      "source": "orders.write.format('parquet').option('mode','append').option('compression','gzip').\nsaveAsTable('newdb.orders_parquet_gz')",
      "execution_count": null,
      "outputs": []
    },
    {
      "metadata": {},
      "cell_type": "markdown",
      "source": "## avro"
    },
    {
      "metadata": {
        "trusted": true
      },
      "cell_type": "code",
      "source": "orders.write.format('com.databricks.spark.avro'). \\\noption('mode','overwrite'). \\\noption('compression','snappy'). \\\nsaveAsTable('newdb.orders_avro_part')",
      "execution_count": null,
      "outputs": []
    }
  ],
  "metadata": {
    "kernelspec": {
      "name": "python36",
      "display_name": "Python 3.6",
      "language": "python"
    },
    "language_info": {
      "mimetype": "text/x-python",
      "nbconvert_exporter": "python",
      "name": "python",
      "pygments_lexer": "ipython3",
      "version": "3.6.6",
      "file_extension": ".py",
      "codemirror_mode": {
        "version": 3,
        "name": "ipython"
      }
    }
  },
  "nbformat": 4,
  "nbformat_minor": 2
}