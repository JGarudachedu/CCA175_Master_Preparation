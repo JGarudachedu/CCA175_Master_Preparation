{
 "cells": [
  {
   "cell_type": "markdown",
   "metadata": {},
   "source": [
    "|Letter|Date or Time Component|Presentation|Examples|\n",
    "|------|----------------------|------------|--------|\n",
    "|G|Era designator|Text|AD|\n",
    "|y|Year|Year|1996; 96|\n",
    "|Y|Week year|Year|2009; 09|\n",
    "|M|Month in year|Month|July; Jul; 07|\n",
    "|w|Week in year|Number|27|\n",
    "|W|Week in month|Number|2|\n",
    "|D|Day in year|Number|189|\n",
    "|d|Day in month|Number|10|\n",
    "|F|Day of week in month|Number|2|\n",
    "|E|Day name in week|Text|Tuesday; Tue|\n",
    "|u|Day number of week (1 = Monday| ...| 7 = Sunday)|Number|1|\n",
    "|a|Am/pm marker|Text|PM|\n",
    "|H|Hour in day (0-23)|Number|0|\n",
    "|k|Hour in day (1-24)|Number|24|\n",
    "|K|Hour in am/pm (0-11)|Number|0|\n",
    "|h|Hour in am/pm (1-12)|Number|12|\n",
    "|m|Minute in hour|Number|30|\n",
    "|s|Second in minute|Number|55|\n",
    "|S|Millisecond|Number|978|\n",
    "|z|Time zone|General time zone|Pacific Standard Time; PST; GMT-08:00|\n",
    "|Z|Time zone|RFC 822 time zone|-800|\n",
    "|X|Time zone|ISO 8601 time zone|-08; -0800; -08:00|"
   ]
  },
  {
   "cell_type": "code",
   "execution_count": null,
   "metadata": {},
   "outputs": [],
   "source": []
  }
 ],
 "metadata": {
  "kernelspec": {
   "display_name": "Python 3",
   "language": "python",
   "name": "python3"
  },
  "language_info": {
   "codemirror_mode": {
    "name": "ipython",
    "version": 3
   },
   "file_extension": ".py",
   "mimetype": "text/x-python",
   "name": "python",
   "nbconvert_exporter": "python",
   "pygments_lexer": "ipython3",
   "version": "3.7.4"
  }
 },
 "nbformat": 4,
 "nbformat_minor": 4
}
