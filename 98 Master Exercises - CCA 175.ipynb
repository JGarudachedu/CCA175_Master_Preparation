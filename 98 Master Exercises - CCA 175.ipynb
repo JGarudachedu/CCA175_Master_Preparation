{
 "cells": [
  {
   "cell_type": "code",
   "execution_count": null,
   "metadata": {},
   "outputs": [],
   "source": [
    "from pyspark.sql import SparkSession\n",
    "from pyspark.sql.functions import *\n",
    "from pyspark.sql.types import *\n",
    "from pyspark.sql.window import Window\n",
    "spark = SparkSession.builder.master('local').appName('aggDataFrames').enableHiveSupport().getOrCreate()\n",
    "sc=spark.sparkContext"
   ]
  },
  {
   "cell_type": "code",
   "execution_count": null,
   "metadata": {},
   "outputs": [],
   "source": [
    "orders = spark.read.csv('data//retail_db//orders.csv',header=True,inferSchema=True)\n",
    "order_items = spark.read.csv('data//retail_db//order_items.csv',header=True,inferSchema=True)\n",
    "customers = spark.read.csv('data//retail_db//customers.csv',header=True,inferSchema=True)\n",
    "products = spark.read.csv('data//retail_db//products.csv',header=True,inferSchema=True)\n",
    "categories = spark.read.csv('data//retail_db//categories.csv',header=True,inferSchema=True)\n",
    "departments = spark.read.csv('data//retail_db//departments.csv',header=True,inferSchema=True)"
   ]
  },
  {
   "cell_type": "markdown",
   "metadata": {},
   "source": [
    "# 1. Top N orders for the day based on order revenue"
   ]
  },
  {
   "cell_type": "code",
   "execution_count": null,
   "metadata": {},
   "outputs": [],
   "source": [
    "p11=orders.join(order_items, orders.order_id == order_items.order_item_order_id).groupBy(orders.order_date,orders.order_id). \\\n",
    "    agg(round(sum(order_items.order_item_subtotal),2).alias('order_revenue'))"
   ]
  },
  {
   "cell_type": "code",
   "execution_count": null,
   "metadata": {},
   "outputs": [],
   "source": [
    "p12=p11.withColumn('rnk',rank().over(Window.partitionBy(orders.order_date).orderBy(col('order_revenue').desc())))"
   ]
  },
  {
   "cell_type": "code",
   "execution_count": null,
   "metadata": {},
   "outputs": [],
   "source": [
    "p1=p12.filter(col('rnk') <= 5).drop('rnk').orderBy('order_date',col('order_revenue').desc())"
   ]
  },
  {
   "cell_type": "code",
   "execution_count": null,
   "metadata": {},
   "outputs": [],
   "source": [
    "p1.show()"
   ]
  },
  {
   "cell_type": "markdown",
   "metadata": {},
   "source": [
    "### SQL"
   ]
  },
  {
   "cell_type": "code",
   "execution_count": null,
   "metadata": {},
   "outputs": [],
   "source": [
    "spark.sql(\" SELECT order_date, order_id, order_revenue FROM \\\n",
    "(SELECT o.order_date, o.order_id, round(sum(oi.order_item_subtotal),2) order_revenue, \\\n",
    "RANK() OVER (PARTITION BY o.order_date ORDER BY round(sum(oi.order_item_subtotal),2) DESC) rnk  \\\n",
    "FROM orders o, order_items oi WHERE o.order_id = oi.order_item_order_id GROUP BY  o.order_date, o.order_id ) main WHERE rnk<= 5 ORDER BY 1, 3 DESC\").show()\n"
   ]
  },
  {
   "cell_type": "markdown",
   "metadata": {},
   "source": [
    "# 2. Get average revenue per day and all the orders which are more than average."
   ]
  },
  {
   "cell_type": "code",
   "execution_count": null,
   "metadata": {},
   "outputs": [],
   "source": [
    "p21=orders.join(order_items, orders.order_id == order_items.order_item_order_id).groupBy('order_date','order_id').\\\n",
    "agg(round(sum('order_item_subtotal'),2).alias('order_revenue'))"
   ]
  },
  {
   "cell_type": "code",
   "execution_count": null,
   "metadata": {},
   "outputs": [],
   "source": [
    "p22=p21.withColumn('avg_revenue',avg('order_revenue').over(Window.partitionBy('order_date')))"
   ]
  },
  {
   "cell_type": "code",
   "execution_count": null,
   "metadata": {},
   "outputs": [],
   "source": [
    "p2=p22.filter('order_revenue >= avg_revenue').orderBy('order_date',col('order_revenue').desc())"
   ]
  },
  {
   "cell_type": "code",
   "execution_count": null,
   "metadata": {},
   "outputs": [],
   "source": [
    "p2.show()"
   ]
  },
  {
   "cell_type": "markdown",
   "metadata": {},
   "source": [
    "### SQL"
   ]
  },
  {
   "cell_type": "code",
   "execution_count": null,
   "metadata": {},
   "outputs": [],
   "source": [
    "spark.sql(\" \\\n",
    "SELECT order_date, order_id, order_revenue, avg_revenue FROM \\\n",
    "(SELECT o.order_date, o.order_id, sum(oi.order_item_subtotal) order_revenue, \\\n",
    "AVG(sum(oi.order_item_subtotal)) OVER (PARTITION BY o.order_date ) avg_revenue  \\\n",
    "FROM orders o, order_items oi WHERE o.order_id = oi.order_item_order_id GROUP BY  o.order_date, o.order_id) \\\n",
    "WHERE order_revenue >= avg_revenue ORDER BY 1, 3 DESC\").show()"
   ]
  },
  {
   "cell_type": "markdown",
   "metadata": {},
   "source": [
    "# 3. Top N products for the day"
   ]
  },
  {
   "cell_type": "code",
   "execution_count": null,
   "metadata": {},
   "outputs": [],
   "source": [
    "p31=orders.join(order_items, orders.order_id == order_items.order_item_order_id).join(products, order_items.order_item_product_id == products.product_id).groupBy('order_date','product_name')"
   ]
  },
  {
   "cell_type": "code",
   "execution_count": null,
   "metadata": {},
   "outputs": [],
   "source": [
    "p32=p31.agg(round(sum('order_item_subtotal'),2).alias('product_revenue')).withColumn('rnk',rank().over(Window.partitionBy('order_date').orderBy(col('product_revenue').desc())))"
   ]
  },
  {
   "cell_type": "code",
   "execution_count": null,
   "metadata": {},
   "outputs": [],
   "source": [
    "p33=p32.filter(col('rnk') <=5).orderBy('order_date',col('product_revenue').desc())"
   ]
  },
  {
   "cell_type": "code",
   "execution_count": null,
   "metadata": {},
   "outputs": [],
   "source": [
    "p3=p33"
   ]
  },
  {
   "cell_type": "code",
   "execution_count": null,
   "metadata": {},
   "outputs": [],
   "source": [
    "p3.show()"
   ]
  },
  {
   "cell_type": "markdown",
   "metadata": {},
   "source": [
    "### SQL"
   ]
  },
  {
   "cell_type": "code",
   "execution_count": null,
   "metadata": {},
   "outputs": [],
   "source": [
    "spark.sql('SELECT * FROM \\\n",
    "( SELECT o.order_date, p.product_name, round(sum(oi.order_item_subtotal),2) product_revenue, \\\n",
    "RANK() OVER(PARTITION BY o.order_date ORDER BY round(sum(oi.order_item_subtotal),2) DESC) rnk \\\n",
    "from orders o, order_items oi, products p WHERE o.order_id = oi.order_item_order_id AND oi.order_item_product_id = p.product_id \\\n",
    "GROUP BY o.order_date, p.product_name ) WHERE rnk <=5 ORDER BY 1,3 DESC').show()\n"
   ]
  },
  {
   "cell_type": "markdown",
   "metadata": {},
   "source": [
    "# 4. Percentage of order items in Order revenue\n"
   ]
  },
  {
   "cell_type": "code",
   "execution_count": null,
   "metadata": {},
   "outputs": [],
   "source": [
    "p41=order_items.withColumn('order_revenue',sum('order_item_subtotal').over(Window.partitionBy('order_item_order_id'))).\\\n",
    "withColumn('pcnt', round(col('order_item_subtotal')/col('order_revenue'),2))"
   ]
  },
  {
   "cell_type": "code",
   "execution_count": null,
   "metadata": {},
   "outputs": [],
   "source": [
    "p42=p41.select('order_item_order_id','order_item_id','order_item_subtotal','order_revenue','pcnt').orderBy(col('order_item_order_id'))"
   ]
  },
  {
   "cell_type": "code",
   "execution_count": null,
   "metadata": {},
   "outputs": [],
   "source": [
    "p4=p42"
   ]
  },
  {
   "cell_type": "code",
   "execution_count": null,
   "metadata": {},
   "outputs": [],
   "source": [
    "p4.show()"
   ]
  },
  {
   "cell_type": "markdown",
   "metadata": {},
   "source": [
    "### SQL"
   ]
  },
  {
   "cell_type": "code",
   "execution_count": null,
   "metadata": {},
   "outputs": [],
   "source": [
    "spark.sql(\"SELECT order_item_order_id, order_item_id, order_item_subtotal, \\\n",
    "round(SUM(order_item_subtotal) OVER(PARTITION BY order_item_order_id),2) order_revenue , \\\n",
    "(round(order_item_subtotal /SUM(order_item_subtotal) OVER(PARTITION BY order_item_order_id),2)) pcnt FROM order_items ORDER BY 1 \").show()\n"
   ]
  },
  {
   "cell_type": "markdown",
   "metadata": {},
   "source": [
    "\n",
    "# 5. Difference in top 2 order items for the order revenue"
   ]
  },
  {
   "cell_type": "code",
   "execution_count": null,
   "metadata": {},
   "outputs": [],
   "source": [
    "p51= order_items.withColumn('rnk',rank().over(Window.partitionBy('order_item_order_id').orderBy(col('order_item_subtotal').desc()))).withColumn('next',lead('order_item_subtotal').over(Window.partitionBy('order_item_order_id').orderBy(col('order_item_subtotal').desc())))"
   ]
  },
  {
   "cell_type": "code",
   "execution_count": null,
   "metadata": {},
   "outputs": [],
   "source": [
    "p52=p51.select('order_item_order_id','order_item_id','order_item_subtotal','next','rnk')"
   ]
  },
  {
   "cell_type": "code",
   "execution_count": null,
   "metadata": {},
   "outputs": [],
   "source": [
    "p53=p52.orderBy('order_item_order_id','rnk').filter(col('rnk')==1).fillna(0).withColumn('diff',round(col('order_item_subtotal').cast('double')-col('next').cast('double'),2)).drop('rnk')"
   ]
  },
  {
   "cell_type": "code",
   "execution_count": null,
   "metadata": {},
   "outputs": [],
   "source": [
    "p5=p53"
   ]
  },
  {
   "cell_type": "code",
   "execution_count": null,
   "metadata": {},
   "outputs": [],
   "source": [
    "p5.show()"
   ]
  },
  {
   "cell_type": "markdown",
   "metadata": {},
   "source": [
    "### SQL"
   ]
  },
  {
   "cell_type": "code",
   "execution_count": null,
   "metadata": {},
   "outputs": [],
   "source": [
    "spark.sql(\"SELECT s.*, s.order_item_subtotal - s.next_item diff FROM ( SELECT order_item_order_id, order_item_id, order_item_subtotal , LEAD(order_item_subtotal) OVER(PARTITION BY order_item_order_id ORDER BY order_item_subtotal DESC) next_item, RANK() OVER(PARTITION BY order_item_order_id ORDER BY order_item_subtotal DESC) rnk FROM order_items) s WHERE rnk =  1 ORDER BY 1, 5 \").show()\n"
   ]
  },
  {
   "cell_type": "markdown",
   "metadata": {},
   "source": [
    "# 6. Get order items contributing more than 75% of the total order"
   ]
  },
  {
   "cell_type": "code",
   "execution_count": null,
   "metadata": {},
   "outputs": [],
   "source": [
    "p61 = order_items.withColumn('order_revenue',sum('order_item_subtotal').over(Window.partitionBy('order_item_order_id'))).\\\n",
    "withColumn('pcnt',round(col('order_item_subtotal')/col('order_revenue'),2))"
   ]
  },
  {
   "cell_type": "code",
   "execution_count": null,
   "metadata": {},
   "outputs": [],
   "source": [
    "p62= p61.filter(col('pcnt') >= 0.75).drop('order_item_product_id','order_item_quantity','order_item_product_price').orderBy('order_item_order_id')"
   ]
  },
  {
   "cell_type": "code",
   "execution_count": null,
   "metadata": {},
   "outputs": [],
   "source": [
    "p6=p62"
   ]
  },
  {
   "cell_type": "code",
   "execution_count": null,
   "metadata": {},
   "outputs": [],
   "source": [
    "p6.show()"
   ]
  },
  {
   "cell_type": "markdown",
   "metadata": {},
   "source": [
    "### SQL\n"
   ]
  },
  {
   "cell_type": "code",
   "execution_count": null,
   "metadata": {},
   "outputs": [],
   "source": [
    "spark.sql(\"SELECT s.*  FROM (SELECT order_item_id, order_item_order_id, order_item_subtotal, round(sum(order_item_subtotal) over(partition by order_item_order_id),2) order_revenue , round(order_item_subtotal/round(sum(order_item_subtotal) over(partition by order_item_order_id),2),2) pcnt FROM order_items) s WHERE pcnt >= 0.75 ORDER BY 1\").show()\n"
   ]
  },
  {
   "cell_type": "markdown",
   "metadata": {},
   "source": [
    "# 7.What are the best-selling and the second best-selling products in every category?"
   ]
  },
  {
   "cell_type": "code",
   "execution_count": null,
   "metadata": {},
   "outputs": [],
   "source": [
    "p71 = order_items.join(products, order_items.order_item_product_id == products.product_id).join(categories, categories.category_id == products.product_category_id).groupBy('category_name','product_name').agg(round(sum(order_items.order_item_subtotal),2).alias('product_revenue'))"
   ]
  },
  {
   "cell_type": "code",
   "execution_count": null,
   "metadata": {},
   "outputs": [],
   "source": [
    "p72=p71.withColumn('rnk',rank().over(Window.partitionBy('category_name').orderBy(col('product_revenue').desc()))).filter(col('rnk') <=2).orderBy('category_name','rnk')"
   ]
  },
  {
   "cell_type": "code",
   "execution_count": null,
   "metadata": {},
   "outputs": [],
   "source": [
    "p7=p72"
   ]
  },
  {
   "cell_type": "code",
   "execution_count": null,
   "metadata": {},
   "outputs": [],
   "source": [
    "p7.show()"
   ]
  },
  {
   "cell_type": "markdown",
   "metadata": {},
   "source": [
    "### SQL"
   ]
  },
  {
   "cell_type": "code",
   "execution_count": null,
   "metadata": {},
   "outputs": [],
   "source": [
    "spark.sql(\"SELECT * FROM (SELECT c.category_name, p.product_name, round(sum(oi.order_item_subtotal),2) product_revenue, rank() over(partition by c.category_name ORDER BY round(sum(oi.order_item_subtotal)) DESC) rnk FROM order_items oi, products p, categories c WHERE oi.order_item_product_id = p.product_id AND p.product_category_id = c.category_id GROUP BY c.category_name, p.product_name ) WHERE rnk<= 2 ORDER BY 1,4\").show()"
   ]
  },
  {
   "cell_type": "markdown",
   "metadata": {},
   "source": [
    "# 8. What is the difference between the revenue of each product and the revenue of the best-selling product in the same category of that product?"
   ]
  },
  {
   "cell_type": "code",
   "execution_count": null,
   "metadata": {},
   "outputs": [],
   "source": [
    "p8=order_items.join(products, products.product_id == order_items.order_item_product_id).\\\n",
    "join(categories, categories.category_id ==  products.product_category_id).\\\n",
    "groupBy('category_name','product_name').agg(round(sum('order_item_subtotal'),2).alias('product_revenue')).\\\n",
    "withColumn('best',max(col('product_revenue')).over(Window.partitionBy('category_name'))).withColumn('diff_prices',col('best')-col('product_revenue')).\\\n",
    "orderBy('category_name','product_revenue')"
   ]
  },
  {
   "cell_type": "code",
   "execution_count": null,
   "metadata": {},
   "outputs": [],
   "source": [
    "p8.show()"
   ]
  },
  {
   "cell_type": "markdown",
   "metadata": {},
   "source": [
    "### SQL"
   ]
  },
  {
   "cell_type": "code",
   "execution_count": null,
   "metadata": {},
   "outputs": [],
   "source": [
    "spark.sql(\"SELECT s.*, best_product - product_revenue diff_prices FROM (SELECT c.category_name, p.product_name, ROUND(SUM(oi.order_item_subtotal),2) product_revenue, MAX(ROUND(SUM(oi.order_item_subtotal),2)) OVER(PARTITION BY c.category_name) best_product FROM categories c, products p , order_items oi WHERE oi.order_item_product_id = p.product_id AND p.product_category_id = c.category_id GROUP BY c.category_name, p.product_name) s ORDER BY 1,3\").show()\n",
    "\n"
   ]
  },
  {
   "cell_type": "markdown",
   "metadata": {},
   "source": [
    "# 9.Most selling product (But Quantity not by Cost) for every month in the database (Between July 2013 to July 2014) "
   ]
  },
  {
   "cell_type": "code",
   "execution_count": null,
   "metadata": {},
   "outputs": [],
   "source": [
    "p91=orders.join(order_items, orders.order_id == order_items.order_item_order_id).join(products, products.product_id == order_items.order_item_product_id).withColumn('date_month',date_format(orders.order_date,'yyyyMM').cast('bigint')).filter(col('date_month').between(201307,201407))"
   ]
  },
  {
   "cell_type": "code",
   "execution_count": null,
   "metadata": {},
   "outputs": [],
   "source": [
    "p92=p91.groupBy(col('date_month'),'product_name').agg(sum(order_items.order_item_quantity).alias('order_quantity'))"
   ]
  },
  {
   "cell_type": "code",
   "execution_count": null,
   "metadata": {},
   "outputs": [],
   "source": [
    "p93=p92.withColumn('rnk',rank().over(Window.partitionBy(col('date_month')).orderBy(col('order_quantity').desc()))).filter(col('rnk')==1).orderBy(col('date_month'))"
   ]
  },
  {
   "cell_type": "code",
   "execution_count": null,
   "metadata": {},
   "outputs": [],
   "source": [
    "p9=p93\n",
    "p9.show()"
   ]
  },
  {
   "cell_type": "markdown",
   "metadata": {},
   "source": [
    "### SQL"
   ]
  },
  {
   "cell_type": "code",
   "execution_count": null,
   "metadata": {},
   "outputs": [],
   "source": [
    "spark.sql(\"SELECT * FROM (SELECT date_format(o.order_date,'yyyyMM') order_month, p.product_name, sum(oi.order_item_quantity) order_quantity, rank() over(partition by date_format(o.order_date,'yyyyMM') order by sum(oi.order_item_quantity) desc) rnk from orders o, order_items oi, products p WHERE oi.order_item_order_id = o.order_id and oi.order_item_product_id = p.product_id GROUP BY date_format(o.order_date,'yyyyMM'), p.product_name) s WHERE rnk=1 ORDER BY 1\").show()"
   ]
  },
  {
   "cell_type": "markdown",
   "metadata": {},
   "source": [
    "# 10. Who are the top 10 revenue generating customers"
   ]
  },
  {
   "cell_type": "code",
   "execution_count": null,
   "metadata": {},
   "outputs": [],
   "source": [
    "orders.join(order_items, orders.order_id ==  order_items.order_item_order_id).join(customers, customers.customer_id ==  orders.order_customer_id).\\\n",
    "groupBy(customers.customer_id, concat_ws(' ',customers.customer_fname,customers.customer_lname)).\\\n",
    "agg(sum(order_items.order_item_subtotal).alias('customer_revenue')).orderBy(col('customer_revenue').desc()).limit(10).show()"
   ]
  },
  {
   "cell_type": "markdown",
   "metadata": {},
   "source": [
    "# 11. What are the top 10 revenue generating products"
   ]
  },
  {
   "cell_type": "code",
   "execution_count": null,
   "metadata": {},
   "outputs": [],
   "source": [
    "orders.join(order_items, orders.order_id ==  order_items.order_item_order_id).join(products, products.product_id==order_items.order_item_product_id).\\\n",
    "groupBy('product_id','product_name').agg(round(sum(order_items.order_item_subtotal),2).alias('product_revenue')).\\\n",
    "orderBy(col('product_revenue').desc()).limit(10).show()"
   ]
  },
  {
   "cell_type": "markdown",
   "metadata": {},
   "source": [
    "# 12. Top 5 revenue generating deparments"
   ]
  },
  {
   "cell_type": "code",
   "execution_count": null,
   "metadata": {},
   "outputs": [],
   "source": [
    "order_items.join(products, products.product_id ==  order_items.order_item_product_id).\\\n",
    "join(categories, categories.category_id == products.product_category_id).\\\n",
    "join(departments, departments.department_id ==  categories.category_department_id).\\\n",
    "groupBy('department_id','department_name').agg(round(sum(order_items.order_item_subtotal),2).alias('dept_revenue')).\\\n",
    "orderBy(col('dept_revenue').desc()).limit(5).show()"
   ]
  },
  {
   "cell_type": "markdown",
   "metadata": {},
   "source": [
    "# 13. Top 5 revenue generating cities (from address of Customers)"
   ]
  },
  {
   "cell_type": "code",
   "execution_count": null,
   "metadata": {},
   "outputs": [],
   "source": [
    "orders.join(order_items, orders.order_id ==  order_items.order_item_order_id).\\\n",
    "join(customers, customers.customer_id ==  orders.order_customer_id).\\\n",
    "groupBy(customers.customer_city).agg(round(sum(order_items.order_item_subtotal),2).alias('city_revenue')).\\\n",
    "orderBy(col('city_revenue').desc()).limit(5).show()"
   ]
  }
 ],
 "metadata": {
  "kernelspec": {
   "display_name": "Python 3",
   "language": "python",
   "name": "python3"
  },
  "language_info": {
   "codemirror_mode": {
    "name": "ipython",
    "version": 3
   },
   "file_extension": ".py",
   "mimetype": "text/x-python",
   "name": "python",
   "nbconvert_exporter": "python",
   "pygments_lexer": "ipython3",
   "version": "3.7.4"
  }
 },
 "nbformat": 4,
 "nbformat_minor": 4
}
